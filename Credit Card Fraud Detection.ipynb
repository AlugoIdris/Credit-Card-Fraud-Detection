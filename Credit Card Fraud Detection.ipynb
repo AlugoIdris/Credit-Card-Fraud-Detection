{
 "cells": [
  {
   "cell_type": "markdown",
   "id": "380976cd",
   "metadata": {},
   "source": [
    "# Credit Card Fraud Detection Problem"
   ]
  },
  {
   "cell_type": "markdown",
   "id": "acb464a6",
   "metadata": {},
   "source": [
    "This project will apply 2 machine learning (ML) modeling techniques to recognize fraudulent credit card transactions. The trained model will assess if a credit card transaction is legitimate or not."
   ]
  },
  {
   "cell_type": "code",
   "execution_count": 62,
   "id": "4958a253",
   "metadata": {},
   "outputs": [],
   "source": [
    "# Importing needed Libraries\n",
    "import pandas as pd\n",
    "import numpy as np\n",
    "import seaborn as sns\n",
    "import matplotlib.pyplot as plt\n",
    "# !pip install snapml\n",
    "import warnings\n",
    "warnings.filterwarnings('ignore')\n",
    "%matplotlib inline\n",
    "from sklearn.model_selection import train_test_split\n",
    "from sklearn.preprocessing import normalize, StandardScaler\n",
    "from sklearn.utils.class_weight import compute_sample_weight\n",
    "from sklearn.metrics import roc_auc_score, accuracy_score, classification_report, roc_curve, precision_score, recall_score, confusion_matrix\n",
    "import time\n",
    "import gc, sys\n",
    "from sklearn.pipeline import Pipeline\n",
    "from sklearn.compose import ColumnTransformer\n",
    "from sklearn.linear_model import LogisticRegression \n",
    "from sklearn.tree import DecisionTreeClassifier\n",
    "from sklearn.svm import LinearSVC"
   ]
  },
  {
   "cell_type": "code",
   "execution_count": 2,
   "id": "346f8af6",
   "metadata": {},
   "outputs": [
    {
     "name": "stdout",
     "output_type": "stream",
     "text": [
      "There are 284807 observations in the credit card fraud dataset.\n",
      "There are 31 variables in the dataset.\n"
     ]
    },
    {
     "data": {
      "text/html": [
       "<div>\n",
       "<style scoped>\n",
       "    .dataframe tbody tr th:only-of-type {\n",
       "        vertical-align: middle;\n",
       "    }\n",
       "\n",
       "    .dataframe tbody tr th {\n",
       "        vertical-align: top;\n",
       "    }\n",
       "\n",
       "    .dataframe thead th {\n",
       "        text-align: right;\n",
       "    }\n",
       "</style>\n",
       "<table border=\"1\" class=\"dataframe\">\n",
       "  <thead>\n",
       "    <tr style=\"text-align: right;\">\n",
       "      <th></th>\n",
       "      <th>Time</th>\n",
       "      <th>V1</th>\n",
       "      <th>V2</th>\n",
       "      <th>V3</th>\n",
       "      <th>V4</th>\n",
       "      <th>V5</th>\n",
       "      <th>V6</th>\n",
       "      <th>V7</th>\n",
       "      <th>V8</th>\n",
       "      <th>V9</th>\n",
       "      <th>...</th>\n",
       "      <th>V21</th>\n",
       "      <th>V22</th>\n",
       "      <th>V23</th>\n",
       "      <th>V24</th>\n",
       "      <th>V25</th>\n",
       "      <th>V26</th>\n",
       "      <th>V27</th>\n",
       "      <th>V28</th>\n",
       "      <th>Amount</th>\n",
       "      <th>Class</th>\n",
       "    </tr>\n",
       "  </thead>\n",
       "  <tbody>\n",
       "    <tr>\n",
       "      <th>0</th>\n",
       "      <td>0.0</td>\n",
       "      <td>-1.359807</td>\n",
       "      <td>-0.072781</td>\n",
       "      <td>2.536347</td>\n",
       "      <td>1.378155</td>\n",
       "      <td>-0.338321</td>\n",
       "      <td>0.462388</td>\n",
       "      <td>0.239599</td>\n",
       "      <td>0.098698</td>\n",
       "      <td>0.363787</td>\n",
       "      <td>...</td>\n",
       "      <td>-0.018307</td>\n",
       "      <td>0.277838</td>\n",
       "      <td>-0.110474</td>\n",
       "      <td>0.066928</td>\n",
       "      <td>0.128539</td>\n",
       "      <td>-0.189115</td>\n",
       "      <td>0.133558</td>\n",
       "      <td>-0.021053</td>\n",
       "      <td>149.62</td>\n",
       "      <td>0</td>\n",
       "    </tr>\n",
       "    <tr>\n",
       "      <th>1</th>\n",
       "      <td>0.0</td>\n",
       "      <td>1.191857</td>\n",
       "      <td>0.266151</td>\n",
       "      <td>0.166480</td>\n",
       "      <td>0.448154</td>\n",
       "      <td>0.060018</td>\n",
       "      <td>-0.082361</td>\n",
       "      <td>-0.078803</td>\n",
       "      <td>0.085102</td>\n",
       "      <td>-0.255425</td>\n",
       "      <td>...</td>\n",
       "      <td>-0.225775</td>\n",
       "      <td>-0.638672</td>\n",
       "      <td>0.101288</td>\n",
       "      <td>-0.339846</td>\n",
       "      <td>0.167170</td>\n",
       "      <td>0.125895</td>\n",
       "      <td>-0.008983</td>\n",
       "      <td>0.014724</td>\n",
       "      <td>2.69</td>\n",
       "      <td>0</td>\n",
       "    </tr>\n",
       "    <tr>\n",
       "      <th>2</th>\n",
       "      <td>1.0</td>\n",
       "      <td>-1.358354</td>\n",
       "      <td>-1.340163</td>\n",
       "      <td>1.773209</td>\n",
       "      <td>0.379780</td>\n",
       "      <td>-0.503198</td>\n",
       "      <td>1.800499</td>\n",
       "      <td>0.791461</td>\n",
       "      <td>0.247676</td>\n",
       "      <td>-1.514654</td>\n",
       "      <td>...</td>\n",
       "      <td>0.247998</td>\n",
       "      <td>0.771679</td>\n",
       "      <td>0.909412</td>\n",
       "      <td>-0.689281</td>\n",
       "      <td>-0.327642</td>\n",
       "      <td>-0.139097</td>\n",
       "      <td>-0.055353</td>\n",
       "      <td>-0.059752</td>\n",
       "      <td>378.66</td>\n",
       "      <td>0</td>\n",
       "    </tr>\n",
       "    <tr>\n",
       "      <th>3</th>\n",
       "      <td>1.0</td>\n",
       "      <td>-0.966272</td>\n",
       "      <td>-0.185226</td>\n",
       "      <td>1.792993</td>\n",
       "      <td>-0.863291</td>\n",
       "      <td>-0.010309</td>\n",
       "      <td>1.247203</td>\n",
       "      <td>0.237609</td>\n",
       "      <td>0.377436</td>\n",
       "      <td>-1.387024</td>\n",
       "      <td>...</td>\n",
       "      <td>-0.108300</td>\n",
       "      <td>0.005274</td>\n",
       "      <td>-0.190321</td>\n",
       "      <td>-1.175575</td>\n",
       "      <td>0.647376</td>\n",
       "      <td>-0.221929</td>\n",
       "      <td>0.062723</td>\n",
       "      <td>0.061458</td>\n",
       "      <td>123.50</td>\n",
       "      <td>0</td>\n",
       "    </tr>\n",
       "    <tr>\n",
       "      <th>4</th>\n",
       "      <td>2.0</td>\n",
       "      <td>-1.158233</td>\n",
       "      <td>0.877737</td>\n",
       "      <td>1.548718</td>\n",
       "      <td>0.403034</td>\n",
       "      <td>-0.407193</td>\n",
       "      <td>0.095921</td>\n",
       "      <td>0.592941</td>\n",
       "      <td>-0.270533</td>\n",
       "      <td>0.817739</td>\n",
       "      <td>...</td>\n",
       "      <td>-0.009431</td>\n",
       "      <td>0.798278</td>\n",
       "      <td>-0.137458</td>\n",
       "      <td>0.141267</td>\n",
       "      <td>-0.206010</td>\n",
       "      <td>0.502292</td>\n",
       "      <td>0.219422</td>\n",
       "      <td>0.215153</td>\n",
       "      <td>69.99</td>\n",
       "      <td>0</td>\n",
       "    </tr>\n",
       "  </tbody>\n",
       "</table>\n",
       "<p>5 rows × 31 columns</p>\n",
       "</div>"
      ],
      "text/plain": [
       "   Time        V1        V2        V3        V4        V5        V6        V7  \\\n",
       "0   0.0 -1.359807 -0.072781  2.536347  1.378155 -0.338321  0.462388  0.239599   \n",
       "1   0.0  1.191857  0.266151  0.166480  0.448154  0.060018 -0.082361 -0.078803   \n",
       "2   1.0 -1.358354 -1.340163  1.773209  0.379780 -0.503198  1.800499  0.791461   \n",
       "3   1.0 -0.966272 -0.185226  1.792993 -0.863291 -0.010309  1.247203  0.237609   \n",
       "4   2.0 -1.158233  0.877737  1.548718  0.403034 -0.407193  0.095921  0.592941   \n",
       "\n",
       "         V8        V9  ...       V21       V22       V23       V24       V25  \\\n",
       "0  0.098698  0.363787  ... -0.018307  0.277838 -0.110474  0.066928  0.128539   \n",
       "1  0.085102 -0.255425  ... -0.225775 -0.638672  0.101288 -0.339846  0.167170   \n",
       "2  0.247676 -1.514654  ...  0.247998  0.771679  0.909412 -0.689281 -0.327642   \n",
       "3  0.377436 -1.387024  ... -0.108300  0.005274 -0.190321 -1.175575  0.647376   \n",
       "4 -0.270533  0.817739  ... -0.009431  0.798278 -0.137458  0.141267 -0.206010   \n",
       "\n",
       "        V26       V27       V28  Amount  Class  \n",
       "0 -0.189115  0.133558 -0.021053  149.62      0  \n",
       "1  0.125895 -0.008983  0.014724    2.69      0  \n",
       "2 -0.139097 -0.055353 -0.059752  378.66      0  \n",
       "3 -0.221929  0.062723  0.061458  123.50      0  \n",
       "4  0.502292  0.219422  0.215153   69.99      0  \n",
       "\n",
       "[5 rows x 31 columns]"
      ]
     },
     "execution_count": 2,
     "metadata": {},
     "output_type": "execute_result"
    }
   ],
   "source": [
    "# Loading the dataset\n",
    "data = pd.read_csv(\"C:/Users/Idris/OneDrive/Documents/CognitiveClass/creditcard.csv\")\n",
    "print(\"There are \" + str(len(data)) + \" observations in the credit card fraud dataset.\")\n",
    "print(\"There are \" + str(len(data.columns)) + \" variables in the dataset.\")\n",
    "\n",
    "# display the first rows in the dataset\n",
    "data.head()"
   ]
  },
  {
   "cell_type": "markdown",
   "id": "43d73c30",
   "metadata": {},
   "source": [
    "Practically, we will deal with a more volumenous dataset due to the field (banking) which usually involve a lot of records. Thus, we will inflate this data to 10* original size"
   ]
  },
  {
   "cell_type": "code",
   "execution_count": 3,
   "id": "9d86e65f",
   "metadata": {},
   "outputs": [
    {
     "name": "stdout",
     "output_type": "stream",
     "text": [
      "There are 2848070 observations in the inflated credit card fraud dataset.\n",
      "There are 31 variables in the dataset.\n"
     ]
    },
    {
     "data": {
      "text/html": [
       "<div>\n",
       "<style scoped>\n",
       "    .dataframe tbody tr th:only-of-type {\n",
       "        vertical-align: middle;\n",
       "    }\n",
       "\n",
       "    .dataframe tbody tr th {\n",
       "        vertical-align: top;\n",
       "    }\n",
       "\n",
       "    .dataframe thead th {\n",
       "        text-align: right;\n",
       "    }\n",
       "</style>\n",
       "<table border=\"1\" class=\"dataframe\">\n",
       "  <thead>\n",
       "    <tr style=\"text-align: right;\">\n",
       "      <th></th>\n",
       "      <th>Time</th>\n",
       "      <th>V1</th>\n",
       "      <th>V2</th>\n",
       "      <th>V3</th>\n",
       "      <th>V4</th>\n",
       "      <th>V5</th>\n",
       "      <th>V6</th>\n",
       "      <th>V7</th>\n",
       "      <th>V8</th>\n",
       "      <th>V9</th>\n",
       "      <th>...</th>\n",
       "      <th>V21</th>\n",
       "      <th>V22</th>\n",
       "      <th>V23</th>\n",
       "      <th>V24</th>\n",
       "      <th>V25</th>\n",
       "      <th>V26</th>\n",
       "      <th>V27</th>\n",
       "      <th>V28</th>\n",
       "      <th>Amount</th>\n",
       "      <th>Class</th>\n",
       "    </tr>\n",
       "  </thead>\n",
       "  <tbody>\n",
       "    <tr>\n",
       "      <th>0</th>\n",
       "      <td>0.0</td>\n",
       "      <td>-1.359807</td>\n",
       "      <td>-0.072781</td>\n",
       "      <td>2.536347</td>\n",
       "      <td>1.378155</td>\n",
       "      <td>-0.338321</td>\n",
       "      <td>0.462388</td>\n",
       "      <td>0.239599</td>\n",
       "      <td>0.098698</td>\n",
       "      <td>0.363787</td>\n",
       "      <td>...</td>\n",
       "      <td>-0.018307</td>\n",
       "      <td>0.277838</td>\n",
       "      <td>-0.110474</td>\n",
       "      <td>0.066928</td>\n",
       "      <td>0.128539</td>\n",
       "      <td>-0.189115</td>\n",
       "      <td>0.133558</td>\n",
       "      <td>-0.021053</td>\n",
       "      <td>149.62</td>\n",
       "      <td>0.0</td>\n",
       "    </tr>\n",
       "    <tr>\n",
       "      <th>1</th>\n",
       "      <td>0.0</td>\n",
       "      <td>-1.359807</td>\n",
       "      <td>-0.072781</td>\n",
       "      <td>2.536347</td>\n",
       "      <td>1.378155</td>\n",
       "      <td>-0.338321</td>\n",
       "      <td>0.462388</td>\n",
       "      <td>0.239599</td>\n",
       "      <td>0.098698</td>\n",
       "      <td>0.363787</td>\n",
       "      <td>...</td>\n",
       "      <td>-0.018307</td>\n",
       "      <td>0.277838</td>\n",
       "      <td>-0.110474</td>\n",
       "      <td>0.066928</td>\n",
       "      <td>0.128539</td>\n",
       "      <td>-0.189115</td>\n",
       "      <td>0.133558</td>\n",
       "      <td>-0.021053</td>\n",
       "      <td>149.62</td>\n",
       "      <td>0.0</td>\n",
       "    </tr>\n",
       "    <tr>\n",
       "      <th>2</th>\n",
       "      <td>0.0</td>\n",
       "      <td>-1.359807</td>\n",
       "      <td>-0.072781</td>\n",
       "      <td>2.536347</td>\n",
       "      <td>1.378155</td>\n",
       "      <td>-0.338321</td>\n",
       "      <td>0.462388</td>\n",
       "      <td>0.239599</td>\n",
       "      <td>0.098698</td>\n",
       "      <td>0.363787</td>\n",
       "      <td>...</td>\n",
       "      <td>-0.018307</td>\n",
       "      <td>0.277838</td>\n",
       "      <td>-0.110474</td>\n",
       "      <td>0.066928</td>\n",
       "      <td>0.128539</td>\n",
       "      <td>-0.189115</td>\n",
       "      <td>0.133558</td>\n",
       "      <td>-0.021053</td>\n",
       "      <td>149.62</td>\n",
       "      <td>0.0</td>\n",
       "    </tr>\n",
       "    <tr>\n",
       "      <th>3</th>\n",
       "      <td>0.0</td>\n",
       "      <td>-1.359807</td>\n",
       "      <td>-0.072781</td>\n",
       "      <td>2.536347</td>\n",
       "      <td>1.378155</td>\n",
       "      <td>-0.338321</td>\n",
       "      <td>0.462388</td>\n",
       "      <td>0.239599</td>\n",
       "      <td>0.098698</td>\n",
       "      <td>0.363787</td>\n",
       "      <td>...</td>\n",
       "      <td>-0.018307</td>\n",
       "      <td>0.277838</td>\n",
       "      <td>-0.110474</td>\n",
       "      <td>0.066928</td>\n",
       "      <td>0.128539</td>\n",
       "      <td>-0.189115</td>\n",
       "      <td>0.133558</td>\n",
       "      <td>-0.021053</td>\n",
       "      <td>149.62</td>\n",
       "      <td>0.0</td>\n",
       "    </tr>\n",
       "    <tr>\n",
       "      <th>4</th>\n",
       "      <td>0.0</td>\n",
       "      <td>-1.359807</td>\n",
       "      <td>-0.072781</td>\n",
       "      <td>2.536347</td>\n",
       "      <td>1.378155</td>\n",
       "      <td>-0.338321</td>\n",
       "      <td>0.462388</td>\n",
       "      <td>0.239599</td>\n",
       "      <td>0.098698</td>\n",
       "      <td>0.363787</td>\n",
       "      <td>...</td>\n",
       "      <td>-0.018307</td>\n",
       "      <td>0.277838</td>\n",
       "      <td>-0.110474</td>\n",
       "      <td>0.066928</td>\n",
       "      <td>0.128539</td>\n",
       "      <td>-0.189115</td>\n",
       "      <td>0.133558</td>\n",
       "      <td>-0.021053</td>\n",
       "      <td>149.62</td>\n",
       "      <td>0.0</td>\n",
       "    </tr>\n",
       "  </tbody>\n",
       "</table>\n",
       "<p>5 rows × 31 columns</p>\n",
       "</div>"
      ],
      "text/plain": [
       "   Time        V1        V2        V3        V4        V5        V6        V7  \\\n",
       "0   0.0 -1.359807 -0.072781  2.536347  1.378155 -0.338321  0.462388  0.239599   \n",
       "1   0.0 -1.359807 -0.072781  2.536347  1.378155 -0.338321  0.462388  0.239599   \n",
       "2   0.0 -1.359807 -0.072781  2.536347  1.378155 -0.338321  0.462388  0.239599   \n",
       "3   0.0 -1.359807 -0.072781  2.536347  1.378155 -0.338321  0.462388  0.239599   \n",
       "4   0.0 -1.359807 -0.072781  2.536347  1.378155 -0.338321  0.462388  0.239599   \n",
       "\n",
       "         V8        V9  ...       V21       V22       V23       V24       V25  \\\n",
       "0  0.098698  0.363787  ... -0.018307  0.277838 -0.110474  0.066928  0.128539   \n",
       "1  0.098698  0.363787  ... -0.018307  0.277838 -0.110474  0.066928  0.128539   \n",
       "2  0.098698  0.363787  ... -0.018307  0.277838 -0.110474  0.066928  0.128539   \n",
       "3  0.098698  0.363787  ... -0.018307  0.277838 -0.110474  0.066928  0.128539   \n",
       "4  0.098698  0.363787  ... -0.018307  0.277838 -0.110474  0.066928  0.128539   \n",
       "\n",
       "        V26       V27       V28  Amount  Class  \n",
       "0 -0.189115  0.133558 -0.021053  149.62    0.0  \n",
       "1 -0.189115  0.133558 -0.021053  149.62    0.0  \n",
       "2 -0.189115  0.133558 -0.021053  149.62    0.0  \n",
       "3 -0.189115  0.133558 -0.021053  149.62    0.0  \n",
       "4 -0.189115  0.133558 -0.021053  149.62    0.0  \n",
       "\n",
       "[5 rows x 31 columns]"
      ]
     },
     "execution_count": 3,
     "metadata": {},
     "output_type": "execute_result"
    }
   ],
   "source": [
    "n_inflation = 10\n",
    "\n",
    "# Inflate the original dataset\n",
    "inflated_data = pd.DataFrame(np.repeat(data.values, n_inflation, axis = 0), columns= data.columns)\n",
    "\n",
    "print(\"There are \" + str(len(inflated_data)) + \" observations in the inflated credit card fraud dataset.\")\n",
    "print(\"There are \" + str(len(inflated_data.columns)) + \" variables in the dataset.\")\n",
    "\n",
    "# display the first rows in the dataset\n",
    "inflated_data.head()"
   ]
  },
  {
   "cell_type": "markdown",
   "id": "2b974b4f",
   "metadata": {},
   "source": [
    "### Exploratory Data Analysis"
   ]
  },
  {
   "cell_type": "code",
   "execution_count": 4,
   "id": "99ac6f82",
   "metadata": {},
   "outputs": [
    {
     "name": "stdout",
     "output_type": "stream",
     "text": [
      "<class 'pandas.core.frame.DataFrame'>\n",
      "RangeIndex: 284807 entries, 0 to 284806\n",
      "Data columns (total 31 columns):\n",
      " #   Column  Non-Null Count   Dtype  \n",
      "---  ------  --------------   -----  \n",
      " 0   Time    284807 non-null  float64\n",
      " 1   V1      284807 non-null  float64\n",
      " 2   V2      284807 non-null  float64\n",
      " 3   V3      284807 non-null  float64\n",
      " 4   V4      284807 non-null  float64\n",
      " 5   V5      284807 non-null  float64\n",
      " 6   V6      284807 non-null  float64\n",
      " 7   V7      284807 non-null  float64\n",
      " 8   V8      284807 non-null  float64\n",
      " 9   V9      284807 non-null  float64\n",
      " 10  V10     284807 non-null  float64\n",
      " 11  V11     284807 non-null  float64\n",
      " 12  V12     284807 non-null  float64\n",
      " 13  V13     284807 non-null  float64\n",
      " 14  V14     284807 non-null  float64\n",
      " 15  V15     284807 non-null  float64\n",
      " 16  V16     284807 non-null  float64\n",
      " 17  V17     284807 non-null  float64\n",
      " 18  V18     284807 non-null  float64\n",
      " 19  V19     284807 non-null  float64\n",
      " 20  V20     284807 non-null  float64\n",
      " 21  V21     284807 non-null  float64\n",
      " 22  V22     284807 non-null  float64\n",
      " 23  V23     284807 non-null  float64\n",
      " 24  V24     284807 non-null  float64\n",
      " 25  V25     284807 non-null  float64\n",
      " 26  V26     284807 non-null  float64\n",
      " 27  V27     284807 non-null  float64\n",
      " 28  V28     284807 non-null  float64\n",
      " 29  Amount  284807 non-null  float64\n",
      " 30  Class   284807 non-null  int64  \n",
      "dtypes: float64(30), int64(1)\n",
      "memory usage: 67.4 MB\n"
     ]
    }
   ],
   "source": [
    "data.info()"
   ]
  },
  {
   "cell_type": "code",
   "execution_count": 5,
   "id": "b00bbf99",
   "metadata": {},
   "outputs": [
    {
     "data": {
      "text/html": [
       "<div>\n",
       "<style scoped>\n",
       "    .dataframe tbody tr th:only-of-type {\n",
       "        vertical-align: middle;\n",
       "    }\n",
       "\n",
       "    .dataframe tbody tr th {\n",
       "        vertical-align: top;\n",
       "    }\n",
       "\n",
       "    .dataframe thead th {\n",
       "        text-align: right;\n",
       "    }\n",
       "</style>\n",
       "<table border=\"1\" class=\"dataframe\">\n",
       "  <thead>\n",
       "    <tr style=\"text-align: right;\">\n",
       "      <th></th>\n",
       "      <th>Time</th>\n",
       "      <th>V1</th>\n",
       "      <th>V2</th>\n",
       "      <th>V3</th>\n",
       "      <th>V4</th>\n",
       "      <th>V5</th>\n",
       "      <th>V6</th>\n",
       "      <th>V7</th>\n",
       "      <th>V8</th>\n",
       "      <th>V9</th>\n",
       "      <th>...</th>\n",
       "      <th>V21</th>\n",
       "      <th>V22</th>\n",
       "      <th>V23</th>\n",
       "      <th>V24</th>\n",
       "      <th>V25</th>\n",
       "      <th>V26</th>\n",
       "      <th>V27</th>\n",
       "      <th>V28</th>\n",
       "      <th>Amount</th>\n",
       "      <th>Class</th>\n",
       "    </tr>\n",
       "  </thead>\n",
       "  <tbody>\n",
       "    <tr>\n",
       "      <th>count</th>\n",
       "      <td>284807.000000</td>\n",
       "      <td>2.848070e+05</td>\n",
       "      <td>2.848070e+05</td>\n",
       "      <td>2.848070e+05</td>\n",
       "      <td>2.848070e+05</td>\n",
       "      <td>2.848070e+05</td>\n",
       "      <td>2.848070e+05</td>\n",
       "      <td>2.848070e+05</td>\n",
       "      <td>2.848070e+05</td>\n",
       "      <td>2.848070e+05</td>\n",
       "      <td>...</td>\n",
       "      <td>2.848070e+05</td>\n",
       "      <td>2.848070e+05</td>\n",
       "      <td>2.848070e+05</td>\n",
       "      <td>2.848070e+05</td>\n",
       "      <td>2.848070e+05</td>\n",
       "      <td>2.848070e+05</td>\n",
       "      <td>2.848070e+05</td>\n",
       "      <td>2.848070e+05</td>\n",
       "      <td>284807.000000</td>\n",
       "      <td>284807.000000</td>\n",
       "    </tr>\n",
       "    <tr>\n",
       "      <th>mean</th>\n",
       "      <td>94813.859575</td>\n",
       "      <td>3.918649e-15</td>\n",
       "      <td>5.682686e-16</td>\n",
       "      <td>-8.761736e-15</td>\n",
       "      <td>2.811118e-15</td>\n",
       "      <td>-1.552103e-15</td>\n",
       "      <td>2.040130e-15</td>\n",
       "      <td>-1.698953e-15</td>\n",
       "      <td>-1.893285e-16</td>\n",
       "      <td>-3.147640e-15</td>\n",
       "      <td>...</td>\n",
       "      <td>1.473120e-16</td>\n",
       "      <td>8.042109e-16</td>\n",
       "      <td>5.282512e-16</td>\n",
       "      <td>4.456271e-15</td>\n",
       "      <td>1.426896e-15</td>\n",
       "      <td>1.701640e-15</td>\n",
       "      <td>-3.662252e-16</td>\n",
       "      <td>-1.217809e-16</td>\n",
       "      <td>88.349619</td>\n",
       "      <td>0.001727</td>\n",
       "    </tr>\n",
       "    <tr>\n",
       "      <th>std</th>\n",
       "      <td>47488.145955</td>\n",
       "      <td>1.958696e+00</td>\n",
       "      <td>1.651309e+00</td>\n",
       "      <td>1.516255e+00</td>\n",
       "      <td>1.415869e+00</td>\n",
       "      <td>1.380247e+00</td>\n",
       "      <td>1.332271e+00</td>\n",
       "      <td>1.237094e+00</td>\n",
       "      <td>1.194353e+00</td>\n",
       "      <td>1.098632e+00</td>\n",
       "      <td>...</td>\n",
       "      <td>7.345240e-01</td>\n",
       "      <td>7.257016e-01</td>\n",
       "      <td>6.244603e-01</td>\n",
       "      <td>6.056471e-01</td>\n",
       "      <td>5.212781e-01</td>\n",
       "      <td>4.822270e-01</td>\n",
       "      <td>4.036325e-01</td>\n",
       "      <td>3.300833e-01</td>\n",
       "      <td>250.120109</td>\n",
       "      <td>0.041527</td>\n",
       "    </tr>\n",
       "    <tr>\n",
       "      <th>min</th>\n",
       "      <td>0.000000</td>\n",
       "      <td>-5.640751e+01</td>\n",
       "      <td>-7.271573e+01</td>\n",
       "      <td>-4.832559e+01</td>\n",
       "      <td>-5.683171e+00</td>\n",
       "      <td>-1.137433e+02</td>\n",
       "      <td>-2.616051e+01</td>\n",
       "      <td>-4.355724e+01</td>\n",
       "      <td>-7.321672e+01</td>\n",
       "      <td>-1.343407e+01</td>\n",
       "      <td>...</td>\n",
       "      <td>-3.483038e+01</td>\n",
       "      <td>-1.093314e+01</td>\n",
       "      <td>-4.480774e+01</td>\n",
       "      <td>-2.836627e+00</td>\n",
       "      <td>-1.029540e+01</td>\n",
       "      <td>-2.604551e+00</td>\n",
       "      <td>-2.256568e+01</td>\n",
       "      <td>-1.543008e+01</td>\n",
       "      <td>0.000000</td>\n",
       "      <td>0.000000</td>\n",
       "    </tr>\n",
       "    <tr>\n",
       "      <th>25%</th>\n",
       "      <td>54201.500000</td>\n",
       "      <td>-9.203734e-01</td>\n",
       "      <td>-5.985499e-01</td>\n",
       "      <td>-8.903648e-01</td>\n",
       "      <td>-8.486401e-01</td>\n",
       "      <td>-6.915971e-01</td>\n",
       "      <td>-7.682956e-01</td>\n",
       "      <td>-5.540759e-01</td>\n",
       "      <td>-2.086297e-01</td>\n",
       "      <td>-6.430976e-01</td>\n",
       "      <td>...</td>\n",
       "      <td>-2.283949e-01</td>\n",
       "      <td>-5.423504e-01</td>\n",
       "      <td>-1.618463e-01</td>\n",
       "      <td>-3.545861e-01</td>\n",
       "      <td>-3.171451e-01</td>\n",
       "      <td>-3.269839e-01</td>\n",
       "      <td>-7.083953e-02</td>\n",
       "      <td>-5.295979e-02</td>\n",
       "      <td>5.600000</td>\n",
       "      <td>0.000000</td>\n",
       "    </tr>\n",
       "    <tr>\n",
       "      <th>50%</th>\n",
       "      <td>84692.000000</td>\n",
       "      <td>1.810880e-02</td>\n",
       "      <td>6.548556e-02</td>\n",
       "      <td>1.798463e-01</td>\n",
       "      <td>-1.984653e-02</td>\n",
       "      <td>-5.433583e-02</td>\n",
       "      <td>-2.741871e-01</td>\n",
       "      <td>4.010308e-02</td>\n",
       "      <td>2.235804e-02</td>\n",
       "      <td>-5.142873e-02</td>\n",
       "      <td>...</td>\n",
       "      <td>-2.945017e-02</td>\n",
       "      <td>6.781943e-03</td>\n",
       "      <td>-1.119293e-02</td>\n",
       "      <td>4.097606e-02</td>\n",
       "      <td>1.659350e-02</td>\n",
       "      <td>-5.213911e-02</td>\n",
       "      <td>1.342146e-03</td>\n",
       "      <td>1.124383e-02</td>\n",
       "      <td>22.000000</td>\n",
       "      <td>0.000000</td>\n",
       "    </tr>\n",
       "    <tr>\n",
       "      <th>75%</th>\n",
       "      <td>139320.500000</td>\n",
       "      <td>1.315642e+00</td>\n",
       "      <td>8.037239e-01</td>\n",
       "      <td>1.027196e+00</td>\n",
       "      <td>7.433413e-01</td>\n",
       "      <td>6.119264e-01</td>\n",
       "      <td>3.985649e-01</td>\n",
       "      <td>5.704361e-01</td>\n",
       "      <td>3.273459e-01</td>\n",
       "      <td>5.971390e-01</td>\n",
       "      <td>...</td>\n",
       "      <td>1.863772e-01</td>\n",
       "      <td>5.285536e-01</td>\n",
       "      <td>1.476421e-01</td>\n",
       "      <td>4.395266e-01</td>\n",
       "      <td>3.507156e-01</td>\n",
       "      <td>2.409522e-01</td>\n",
       "      <td>9.104512e-02</td>\n",
       "      <td>7.827995e-02</td>\n",
       "      <td>77.165000</td>\n",
       "      <td>0.000000</td>\n",
       "    </tr>\n",
       "    <tr>\n",
       "      <th>max</th>\n",
       "      <td>172792.000000</td>\n",
       "      <td>2.454930e+00</td>\n",
       "      <td>2.205773e+01</td>\n",
       "      <td>9.382558e+00</td>\n",
       "      <td>1.687534e+01</td>\n",
       "      <td>3.480167e+01</td>\n",
       "      <td>7.330163e+01</td>\n",
       "      <td>1.205895e+02</td>\n",
       "      <td>2.000721e+01</td>\n",
       "      <td>1.559499e+01</td>\n",
       "      <td>...</td>\n",
       "      <td>2.720284e+01</td>\n",
       "      <td>1.050309e+01</td>\n",
       "      <td>2.252841e+01</td>\n",
       "      <td>4.584549e+00</td>\n",
       "      <td>7.519589e+00</td>\n",
       "      <td>3.517346e+00</td>\n",
       "      <td>3.161220e+01</td>\n",
       "      <td>3.384781e+01</td>\n",
       "      <td>25691.160000</td>\n",
       "      <td>1.000000</td>\n",
       "    </tr>\n",
       "  </tbody>\n",
       "</table>\n",
       "<p>8 rows × 31 columns</p>\n",
       "</div>"
      ],
      "text/plain": [
       "                Time            V1            V2            V3            V4  \\\n",
       "count  284807.000000  2.848070e+05  2.848070e+05  2.848070e+05  2.848070e+05   \n",
       "mean    94813.859575  3.918649e-15  5.682686e-16 -8.761736e-15  2.811118e-15   \n",
       "std     47488.145955  1.958696e+00  1.651309e+00  1.516255e+00  1.415869e+00   \n",
       "min         0.000000 -5.640751e+01 -7.271573e+01 -4.832559e+01 -5.683171e+00   \n",
       "25%     54201.500000 -9.203734e-01 -5.985499e-01 -8.903648e-01 -8.486401e-01   \n",
       "50%     84692.000000  1.810880e-02  6.548556e-02  1.798463e-01 -1.984653e-02   \n",
       "75%    139320.500000  1.315642e+00  8.037239e-01  1.027196e+00  7.433413e-01   \n",
       "max    172792.000000  2.454930e+00  2.205773e+01  9.382558e+00  1.687534e+01   \n",
       "\n",
       "                 V5            V6            V7            V8            V9  \\\n",
       "count  2.848070e+05  2.848070e+05  2.848070e+05  2.848070e+05  2.848070e+05   \n",
       "mean  -1.552103e-15  2.040130e-15 -1.698953e-15 -1.893285e-16 -3.147640e-15   \n",
       "std    1.380247e+00  1.332271e+00  1.237094e+00  1.194353e+00  1.098632e+00   \n",
       "min   -1.137433e+02 -2.616051e+01 -4.355724e+01 -7.321672e+01 -1.343407e+01   \n",
       "25%   -6.915971e-01 -7.682956e-01 -5.540759e-01 -2.086297e-01 -6.430976e-01   \n",
       "50%   -5.433583e-02 -2.741871e-01  4.010308e-02  2.235804e-02 -5.142873e-02   \n",
       "75%    6.119264e-01  3.985649e-01  5.704361e-01  3.273459e-01  5.971390e-01   \n",
       "max    3.480167e+01  7.330163e+01  1.205895e+02  2.000721e+01  1.559499e+01   \n",
       "\n",
       "       ...           V21           V22           V23           V24  \\\n",
       "count  ...  2.848070e+05  2.848070e+05  2.848070e+05  2.848070e+05   \n",
       "mean   ...  1.473120e-16  8.042109e-16  5.282512e-16  4.456271e-15   \n",
       "std    ...  7.345240e-01  7.257016e-01  6.244603e-01  6.056471e-01   \n",
       "min    ... -3.483038e+01 -1.093314e+01 -4.480774e+01 -2.836627e+00   \n",
       "25%    ... -2.283949e-01 -5.423504e-01 -1.618463e-01 -3.545861e-01   \n",
       "50%    ... -2.945017e-02  6.781943e-03 -1.119293e-02  4.097606e-02   \n",
       "75%    ...  1.863772e-01  5.285536e-01  1.476421e-01  4.395266e-01   \n",
       "max    ...  2.720284e+01  1.050309e+01  2.252841e+01  4.584549e+00   \n",
       "\n",
       "                V25           V26           V27           V28         Amount  \\\n",
       "count  2.848070e+05  2.848070e+05  2.848070e+05  2.848070e+05  284807.000000   \n",
       "mean   1.426896e-15  1.701640e-15 -3.662252e-16 -1.217809e-16      88.349619   \n",
       "std    5.212781e-01  4.822270e-01  4.036325e-01  3.300833e-01     250.120109   \n",
       "min   -1.029540e+01 -2.604551e+00 -2.256568e+01 -1.543008e+01       0.000000   \n",
       "25%   -3.171451e-01 -3.269839e-01 -7.083953e-02 -5.295979e-02       5.600000   \n",
       "50%    1.659350e-02 -5.213911e-02  1.342146e-03  1.124383e-02      22.000000   \n",
       "75%    3.507156e-01  2.409522e-01  9.104512e-02  7.827995e-02      77.165000   \n",
       "max    7.519589e+00  3.517346e+00  3.161220e+01  3.384781e+01   25691.160000   \n",
       "\n",
       "               Class  \n",
       "count  284807.000000  \n",
       "mean        0.001727  \n",
       "std         0.041527  \n",
       "min         0.000000  \n",
       "25%         0.000000  \n",
       "50%         0.000000  \n",
       "75%         0.000000  \n",
       "max         1.000000  \n",
       "\n",
       "[8 rows x 31 columns]"
      ]
     },
     "execution_count": 5,
     "metadata": {},
     "output_type": "execute_result"
    }
   ],
   "source": [
    "data.describe()"
   ]
  },
  {
   "cell_type": "code",
   "execution_count": 6,
   "id": "35a8eab4",
   "metadata": {},
   "outputs": [
    {
     "data": {
      "text/plain": [
       "Time      0\n",
       "V1        0\n",
       "V2        0\n",
       "V3        0\n",
       "V4        0\n",
       "V5        0\n",
       "V6        0\n",
       "V7        0\n",
       "V8        0\n",
       "V9        0\n",
       "V10       0\n",
       "V11       0\n",
       "V12       0\n",
       "V13       0\n",
       "V14       0\n",
       "V15       0\n",
       "V16       0\n",
       "V17       0\n",
       "V18       0\n",
       "V19       0\n",
       "V20       0\n",
       "V21       0\n",
       "V22       0\n",
       "V23       0\n",
       "V24       0\n",
       "V25       0\n",
       "V26       0\n",
       "V27       0\n",
       "V28       0\n",
       "Amount    0\n",
       "Class     0\n",
       "dtype: int64"
      ]
     },
     "execution_count": 6,
     "metadata": {},
     "output_type": "execute_result"
    }
   ],
   "source": [
    "# Check for missing columns\n",
    "data.isnull().sum()"
   ]
  },
  {
   "cell_type": "markdown",
   "id": "983c5f20",
   "metadata": {},
   "source": [
    "Next is to identify the target label as well as features which will be used for prediction"
   ]
  },
  {
   "cell_type": "code",
   "execution_count": 7,
   "id": "a5088276",
   "metadata": {},
   "outputs": [],
   "source": [
    "# How many target labels do we have?\n",
    "labels = inflated_data.Class.unique()"
   ]
  },
  {
   "cell_type": "code",
   "execution_count": 8,
   "id": "0eb67e94",
   "metadata": {},
   "outputs": [],
   "source": [
    "# Get the count of each class\n",
    "sizes = inflated_data.Class.value_counts()"
   ]
  },
  {
   "cell_type": "code",
   "execution_count": 9,
   "id": "cad6b9e1",
   "metadata": {},
   "outputs": [
    {
     "data": {
      "image/png": "[encoded data removed]",
      "text/plain": [
       "<Figure size 640x480 with 1 Axes>"
      ]
     },
     "metadata": {},
     "output_type": "display_data"
    }
   ],
   "source": [
    "# Visualize the count of each class in the entire dataset\n",
    "\n",
    "fig, ax = plt.subplots()\n",
    "ax.pie(sizes, labels = labels, autopct='%.3f')\n",
    "ax.set_title('Target Variable Value Counts')\n",
    "plt.show()"
   ]
  },
  {
   "cell_type": "markdown",
   "id": "acbf8c12",
   "metadata": {},
   "source": [
    "As seen above, the Class Variable (target label) has two (2) values. \n",
    "\n",
    "- 0 means the transaction isnt fraudulent\n",
    "- 1 means the transaction is fraudulent"
   ]
  },
  {
   "cell_type": "markdown",
   "id": "9addec5a",
   "metadata": {},
   "source": [
    "Next, we explore the amount for each transaction. Since its a continuous numerical variable, we will use a distribution plot such as histogram or box plot. To better simplify this, we will create a function for re-useability"
   ]
  },
  {
   "cell_type": "code",
   "execution_count": 10,
   "id": "aea85fec",
   "metadata": {},
   "outputs": [],
   "source": [
    "def show_distribution(var):\n",
    "\n",
    "    # Get statistics\n",
    "    min_val = inflated_data[var].min()\n",
    "    max_val = inflated_data[var].max()\n",
    "    mean_val = inflated_data[var].mean()\n",
    "    med_val = inflated_data[var].median()\n",
    "    mod_val = inflated_data[var].mode()[0]\n",
    "\n",
    "\n",
    "    print(\"Minimum: {:.2f}\\nMaximum: {:.2f}\\nMean: {:.2f}\\nMedian: {:.2f}\\nMode: {:.2f}\\n\".format(\n",
    "    min_val, max_val, mean_val, med_val, mod_val))\n",
    "\n",
    "    # Create a figure for 2 subplots (2 rows, 1 column)\n",
    "    fig, ax = plt.subplots(2, 1, figsize = (9,12))\n",
    "\n",
    "    # plot an histogram\n",
    "    ax[0].hist(inflated_data[var], facecolor = \"b\")\n",
    "    ax[0].set_ylabel('Frequency')\n",
    "    ax[0].set_xlabel(var)\n",
    "\n",
    "    # Add lines for the statistics\n",
    "    ax[0].axvline(x=min_val, color = 'gray', linestyle='dashed', linewidth = 2)\n",
    "    ax[0].axvline(x=mean_val, color = 'cyan', linestyle='dashed', linewidth = 2)\n",
    "    ax[0].axvline(x=med_val, color = 'red', linestyle='dashed', linewidth = 2)\n",
    "    ax[0].axvline(x=mod_val, color = 'yellow', linestyle='dashed', linewidth = 2)\n",
    "    ax[0].axvline(x=max_val, color = 'gray', linestyle='dashed', linewidth = 2)\n",
    "\n",
    " \n",
    "\n",
    "    # Add a title to the Figure\n",
    "    fig.suptitle('Data Distribution of ' + var)\n",
    "    \n",
    "    # create boxplot\n",
    "    ax[1].boxplot(inflated_data[var], vert = False)\n",
    "    ax[1].set_xlabel(var)\n",
    "\n",
    "    \n",
    "    # Show the figure\n",
    "    fig.show()"
   ]
  },
  {
   "cell_type": "code",
   "execution_count": 11,
   "id": "71d4b311",
   "metadata": {},
   "outputs": [
    {
     "name": "stdout",
     "output_type": "stream",
     "text": [
      "Minimum: 0.00\n",
      "Maximum: 25691.16\n",
      "Mean: 88.35\n",
      "Median: 22.00\n",
      "Mode: 1.00\n",
      "\n"
     ]
    },
    {
     "data": {
      "image/png": "[encoded data removed]",
      "text/plain": [
       "<Figure size 900x1200 with 2 Axes>"
      ]
     },
     "metadata": {},
     "output_type": "display_data"
    }
   ],
   "source": [
    "show_distribution(\"Amount\")"
   ]
  },
  {
   "cell_type": "markdown",
   "id": "83d356e7",
   "metadata": {},
   "source": [
    "We see that it is highly skewed. Lets check the Quartiles. Again, we deploy a function for code reusuability"
   ]
  },
  {
   "cell_type": "code",
   "execution_count": 12,
   "id": "e4bea150",
   "metadata": {},
   "outputs": [],
   "source": [
    "def what_quantiles(var):\n",
    "    quantiles = [1, 25, 75, 90, 99]\n",
    "    for i in quantiles:\n",
    "        n_quantile = inflated_data[var].quantile(i/100)\n",
    "        print(\"{}th Quantile: {}\".format(i, n_quantile))\n",
    "        \n",
    "# We can also use np.percentile(value_array, percentile)"
   ]
  },
  {
   "cell_type": "code",
   "execution_count": 13,
   "id": "d94f050d",
   "metadata": {},
   "outputs": [
    {
     "name": "stdout",
     "output_type": "stream",
     "text": [
      "1th Quantile: 0.12\n",
      "25th Quantile: 5.6\n",
      "75th Quantile: 77.17\n",
      "90th Quantile: 203.0\n",
      "99th Quantile: 1018.0\n"
     ]
    }
   ],
   "source": [
    "what_quantiles(\"Amount\")"
   ]
  },
  {
   "cell_type": "markdown",
   "id": "69082b90",
   "metadata": {},
   "source": [
    "We see from above that there are quite a bunch of outliers. Lets take a look at the values > than the 99th Percentile and recreate the distribution chart"
   ]
  },
  {
   "cell_type": "code",
   "execution_count": 14,
   "id": "de88679c",
   "metadata": {},
   "outputs": [],
   "source": [
    "# Filter out the outliers\n",
    "q99 = inflated_data.Amount.quantile(0.99)\n",
    "\n",
    "q99_data = inflated_data[inflated_data.Amount <= q99]"
   ]
  },
  {
   "cell_type": "code",
   "execution_count": 15,
   "id": "b84c4c77",
   "metadata": {},
   "outputs": [
    {
     "data": {
      "text/plain": [
       "(2819600, 31)"
      ]
     },
     "execution_count": 15,
     "metadata": {},
     "output_type": "execute_result"
    }
   ],
   "source": [
    "q99_data.shape"
   ]
  },
  {
   "cell_type": "code",
   "execution_count": 16,
   "id": "d1626f9b",
   "metadata": {},
   "outputs": [
    {
     "data": {
      "text/plain": [
       "Text(0.5, 0, 'Amount')"
      ]
     },
     "execution_count": 16,
     "metadata": {},
     "output_type": "execute_result"
    },
    {
     "data": {
      "image/png": "[encoded data removed]",
      "text/plain": [
       "<Figure size 640x480 with 1 Axes>"
      ]
     },
     "metadata": {},
     "output_type": "display_data"
    }
   ],
   "source": [
    " # plot an histogram\n",
    "plt.hist(q99_data[\"Amount\"], facecolor = \"b\")\n",
    "plt.ylabel('Frequency')\n",
    "plt.xlabel(\"Amount\")"
   ]
  },
  {
   "cell_type": "code",
   "execution_count": 17,
   "id": "d53149dd",
   "metadata": {},
   "outputs": [
    {
     "data": {
      "image/png": "[encoded data removed]",
      "text/plain": [
       "<Figure size 900x1200 with 2 Axes>"
      ]
     },
     "metadata": {},
     "output_type": "display_data"
    }
   ],
   "source": [
    "fig, ax = plt.subplots(2, 1, figsize = (9,12))\n",
    "\n",
    "# plot an histogram\n",
    "ax[0].hist(q99_data[\"Amount\"], facecolor = \"b\")\n",
    "ax[0].set_ylabel('Frequency')\n",
    "ax[0].set_xlabel(\"Amount\")\n",
    "\n",
    "# Add a title to the Figure\n",
    "fig.suptitle('Data Distribution of ' + \"Amount without Outlier\")\n",
    "\n",
    "# create boxplot\n",
    "ax[1].boxplot(q99_data[\"Amount\"], vert = False)\n",
    "ax[1].set_xlabel(\"Amount\")\n",
    "\n",
    "\n",
    "# Show the figure\n",
    "fig.show()"
   ]
  },
  {
   "cell_type": "markdown",
   "id": "90bcf651",
   "metadata": {},
   "source": [
    "Now, we see clearear a positive skewed dataset"
   ]
  },
  {
   "cell_type": "markdown",
   "id": "d53eb389",
   "metadata": {},
   "source": [
    "### Data Preprocessing"
   ]
  },
  {
   "cell_type": "markdown",
   "id": "760937b8",
   "metadata": {},
   "source": [
    "Since we dont have any categorical data, we can only apply numerical transformations. Lets take a look at the scale."
   ]
  },
  {
   "cell_type": "code",
   "execution_count": 18,
   "id": "0f4c1ce9",
   "metadata": {},
   "outputs": [
    {
     "data": {
      "text/html": [
       "<div>\n",
       "<style scoped>\n",
       "    .dataframe tbody tr th:only-of-type {\n",
       "        vertical-align: middle;\n",
       "    }\n",
       "\n",
       "    .dataframe tbody tr th {\n",
       "        vertical-align: top;\n",
       "    }\n",
       "\n",
       "    .dataframe thead th {\n",
       "        text-align: right;\n",
       "    }\n",
       "</style>\n",
       "<table border=\"1\" class=\"dataframe\">\n",
       "  <thead>\n",
       "    <tr style=\"text-align: right;\">\n",
       "      <th></th>\n",
       "      <th>Time</th>\n",
       "      <th>V1</th>\n",
       "      <th>V2</th>\n",
       "      <th>V3</th>\n",
       "      <th>V4</th>\n",
       "      <th>V5</th>\n",
       "      <th>V6</th>\n",
       "      <th>V7</th>\n",
       "      <th>V8</th>\n",
       "      <th>V9</th>\n",
       "      <th>...</th>\n",
       "      <th>V21</th>\n",
       "      <th>V22</th>\n",
       "      <th>V23</th>\n",
       "      <th>V24</th>\n",
       "      <th>V25</th>\n",
       "      <th>V26</th>\n",
       "      <th>V27</th>\n",
       "      <th>V28</th>\n",
       "      <th>Amount</th>\n",
       "      <th>Class</th>\n",
       "    </tr>\n",
       "  </thead>\n",
       "  <tbody>\n",
       "    <tr>\n",
       "      <th>count</th>\n",
       "      <td>284807.000000</td>\n",
       "      <td>2.848070e+05</td>\n",
       "      <td>2.848070e+05</td>\n",
       "      <td>2.848070e+05</td>\n",
       "      <td>2.848070e+05</td>\n",
       "      <td>2.848070e+05</td>\n",
       "      <td>2.848070e+05</td>\n",
       "      <td>2.848070e+05</td>\n",
       "      <td>2.848070e+05</td>\n",
       "      <td>2.848070e+05</td>\n",
       "      <td>...</td>\n",
       "      <td>2.848070e+05</td>\n",
       "      <td>2.848070e+05</td>\n",
       "      <td>2.848070e+05</td>\n",
       "      <td>2.848070e+05</td>\n",
       "      <td>2.848070e+05</td>\n",
       "      <td>2.848070e+05</td>\n",
       "      <td>2.848070e+05</td>\n",
       "      <td>2.848070e+05</td>\n",
       "      <td>284807.000000</td>\n",
       "      <td>284807.000000</td>\n",
       "    </tr>\n",
       "    <tr>\n",
       "      <th>mean</th>\n",
       "      <td>94813.859575</td>\n",
       "      <td>3.918649e-15</td>\n",
       "      <td>5.682686e-16</td>\n",
       "      <td>-8.761736e-15</td>\n",
       "      <td>2.811118e-15</td>\n",
       "      <td>-1.552103e-15</td>\n",
       "      <td>2.040130e-15</td>\n",
       "      <td>-1.698953e-15</td>\n",
       "      <td>-1.893285e-16</td>\n",
       "      <td>-3.147640e-15</td>\n",
       "      <td>...</td>\n",
       "      <td>1.473120e-16</td>\n",
       "      <td>8.042109e-16</td>\n",
       "      <td>5.282512e-16</td>\n",
       "      <td>4.456271e-15</td>\n",
       "      <td>1.426896e-15</td>\n",
       "      <td>1.701640e-15</td>\n",
       "      <td>-3.662252e-16</td>\n",
       "      <td>-1.217809e-16</td>\n",
       "      <td>88.349619</td>\n",
       "      <td>0.001727</td>\n",
       "    </tr>\n",
       "    <tr>\n",
       "      <th>std</th>\n",
       "      <td>47488.145955</td>\n",
       "      <td>1.958696e+00</td>\n",
       "      <td>1.651309e+00</td>\n",
       "      <td>1.516255e+00</td>\n",
       "      <td>1.415869e+00</td>\n",
       "      <td>1.380247e+00</td>\n",
       "      <td>1.332271e+00</td>\n",
       "      <td>1.237094e+00</td>\n",
       "      <td>1.194353e+00</td>\n",
       "      <td>1.098632e+00</td>\n",
       "      <td>...</td>\n",
       "      <td>7.345240e-01</td>\n",
       "      <td>7.257016e-01</td>\n",
       "      <td>6.244603e-01</td>\n",
       "      <td>6.056471e-01</td>\n",
       "      <td>5.212781e-01</td>\n",
       "      <td>4.822270e-01</td>\n",
       "      <td>4.036325e-01</td>\n",
       "      <td>3.300833e-01</td>\n",
       "      <td>250.120109</td>\n",
       "      <td>0.041527</td>\n",
       "    </tr>\n",
       "    <tr>\n",
       "      <th>min</th>\n",
       "      <td>0.000000</td>\n",
       "      <td>-5.640751e+01</td>\n",
       "      <td>-7.271573e+01</td>\n",
       "      <td>-4.832559e+01</td>\n",
       "      <td>-5.683171e+00</td>\n",
       "      <td>-1.137433e+02</td>\n",
       "      <td>-2.616051e+01</td>\n",
       "      <td>-4.355724e+01</td>\n",
       "      <td>-7.321672e+01</td>\n",
       "      <td>-1.343407e+01</td>\n",
       "      <td>...</td>\n",
       "      <td>-3.483038e+01</td>\n",
       "      <td>-1.093314e+01</td>\n",
       "      <td>-4.480774e+01</td>\n",
       "      <td>-2.836627e+00</td>\n",
       "      <td>-1.029540e+01</td>\n",
       "      <td>-2.604551e+00</td>\n",
       "      <td>-2.256568e+01</td>\n",
       "      <td>-1.543008e+01</td>\n",
       "      <td>0.000000</td>\n",
       "      <td>0.000000</td>\n",
       "    </tr>\n",
       "    <tr>\n",
       "      <th>25%</th>\n",
       "      <td>54201.500000</td>\n",
       "      <td>-9.203734e-01</td>\n",
       "      <td>-5.985499e-01</td>\n",
       "      <td>-8.903648e-01</td>\n",
       "      <td>-8.486401e-01</td>\n",
       "      <td>-6.915971e-01</td>\n",
       "      <td>-7.682956e-01</td>\n",
       "      <td>-5.540759e-01</td>\n",
       "      <td>-2.086297e-01</td>\n",
       "      <td>-6.430976e-01</td>\n",
       "      <td>...</td>\n",
       "      <td>-2.283949e-01</td>\n",
       "      <td>-5.423504e-01</td>\n",
       "      <td>-1.618463e-01</td>\n",
       "      <td>-3.545861e-01</td>\n",
       "      <td>-3.171451e-01</td>\n",
       "      <td>-3.269839e-01</td>\n",
       "      <td>-7.083953e-02</td>\n",
       "      <td>-5.295979e-02</td>\n",
       "      <td>5.600000</td>\n",
       "      <td>0.000000</td>\n",
       "    </tr>\n",
       "    <tr>\n",
       "      <th>50%</th>\n",
       "      <td>84692.000000</td>\n",
       "      <td>1.810880e-02</td>\n",
       "      <td>6.548556e-02</td>\n",
       "      <td>1.798463e-01</td>\n",
       "      <td>-1.984653e-02</td>\n",
       "      <td>-5.433583e-02</td>\n",
       "      <td>-2.741871e-01</td>\n",
       "      <td>4.010308e-02</td>\n",
       "      <td>2.235804e-02</td>\n",
       "      <td>-5.142873e-02</td>\n",
       "      <td>...</td>\n",
       "      <td>-2.945017e-02</td>\n",
       "      <td>6.781943e-03</td>\n",
       "      <td>-1.119293e-02</td>\n",
       "      <td>4.097606e-02</td>\n",
       "      <td>1.659350e-02</td>\n",
       "      <td>-5.213911e-02</td>\n",
       "      <td>1.342146e-03</td>\n",
       "      <td>1.124383e-02</td>\n",
       "      <td>22.000000</td>\n",
       "      <td>0.000000</td>\n",
       "    </tr>\n",
       "    <tr>\n",
       "      <th>75%</th>\n",
       "      <td>139320.500000</td>\n",
       "      <td>1.315642e+00</td>\n",
       "      <td>8.037239e-01</td>\n",
       "      <td>1.027196e+00</td>\n",
       "      <td>7.433413e-01</td>\n",
       "      <td>6.119264e-01</td>\n",
       "      <td>3.985649e-01</td>\n",
       "      <td>5.704361e-01</td>\n",
       "      <td>3.273459e-01</td>\n",
       "      <td>5.971390e-01</td>\n",
       "      <td>...</td>\n",
       "      <td>1.863772e-01</td>\n",
       "      <td>5.285536e-01</td>\n",
       "      <td>1.476421e-01</td>\n",
       "      <td>4.395266e-01</td>\n",
       "      <td>3.507156e-01</td>\n",
       "      <td>2.409522e-01</td>\n",
       "      <td>9.104512e-02</td>\n",
       "      <td>7.827995e-02</td>\n",
       "      <td>77.165000</td>\n",
       "      <td>0.000000</td>\n",
       "    </tr>\n",
       "    <tr>\n",
       "      <th>max</th>\n",
       "      <td>172792.000000</td>\n",
       "      <td>2.454930e+00</td>\n",
       "      <td>2.205773e+01</td>\n",
       "      <td>9.382558e+00</td>\n",
       "      <td>1.687534e+01</td>\n",
       "      <td>3.480167e+01</td>\n",
       "      <td>7.330163e+01</td>\n",
       "      <td>1.205895e+02</td>\n",
       "      <td>2.000721e+01</td>\n",
       "      <td>1.559499e+01</td>\n",
       "      <td>...</td>\n",
       "      <td>2.720284e+01</td>\n",
       "      <td>1.050309e+01</td>\n",
       "      <td>2.252841e+01</td>\n",
       "      <td>4.584549e+00</td>\n",
       "      <td>7.519589e+00</td>\n",
       "      <td>3.517346e+00</td>\n",
       "      <td>3.161220e+01</td>\n",
       "      <td>3.384781e+01</td>\n",
       "      <td>25691.160000</td>\n",
       "      <td>1.000000</td>\n",
       "    </tr>\n",
       "  </tbody>\n",
       "</table>\n",
       "<p>8 rows × 31 columns</p>\n",
       "</div>"
      ],
      "text/plain": [
       "                Time            V1            V2            V3            V4  \\\n",
       "count  284807.000000  2.848070e+05  2.848070e+05  2.848070e+05  2.848070e+05   \n",
       "mean    94813.859575  3.918649e-15  5.682686e-16 -8.761736e-15  2.811118e-15   \n",
       "std     47488.145955  1.958696e+00  1.651309e+00  1.516255e+00  1.415869e+00   \n",
       "min         0.000000 -5.640751e+01 -7.271573e+01 -4.832559e+01 -5.683171e+00   \n",
       "25%     54201.500000 -9.203734e-01 -5.985499e-01 -8.903648e-01 -8.486401e-01   \n",
       "50%     84692.000000  1.810880e-02  6.548556e-02  1.798463e-01 -1.984653e-02   \n",
       "75%    139320.500000  1.315642e+00  8.037239e-01  1.027196e+00  7.433413e-01   \n",
       "max    172792.000000  2.454930e+00  2.205773e+01  9.382558e+00  1.687534e+01   \n",
       "\n",
       "                 V5            V6            V7            V8            V9  \\\n",
       "count  2.848070e+05  2.848070e+05  2.848070e+05  2.848070e+05  2.848070e+05   \n",
       "mean  -1.552103e-15  2.040130e-15 -1.698953e-15 -1.893285e-16 -3.147640e-15   \n",
       "std    1.380247e+00  1.332271e+00  1.237094e+00  1.194353e+00  1.098632e+00   \n",
       "min   -1.137433e+02 -2.616051e+01 -4.355724e+01 -7.321672e+01 -1.343407e+01   \n",
       "25%   -6.915971e-01 -7.682956e-01 -5.540759e-01 -2.086297e-01 -6.430976e-01   \n",
       "50%   -5.433583e-02 -2.741871e-01  4.010308e-02  2.235804e-02 -5.142873e-02   \n",
       "75%    6.119264e-01  3.985649e-01  5.704361e-01  3.273459e-01  5.971390e-01   \n",
       "max    3.480167e+01  7.330163e+01  1.205895e+02  2.000721e+01  1.559499e+01   \n",
       "\n",
       "       ...           V21           V22           V23           V24  \\\n",
       "count  ...  2.848070e+05  2.848070e+05  2.848070e+05  2.848070e+05   \n",
       "mean   ...  1.473120e-16  8.042109e-16  5.282512e-16  4.456271e-15   \n",
       "std    ...  7.345240e-01  7.257016e-01  6.244603e-01  6.056471e-01   \n",
       "min    ... -3.483038e+01 -1.093314e+01 -4.480774e+01 -2.836627e+00   \n",
       "25%    ... -2.283949e-01 -5.423504e-01 -1.618463e-01 -3.545861e-01   \n",
       "50%    ... -2.945017e-02  6.781943e-03 -1.119293e-02  4.097606e-02   \n",
       "75%    ...  1.863772e-01  5.285536e-01  1.476421e-01  4.395266e-01   \n",
       "max    ...  2.720284e+01  1.050309e+01  2.252841e+01  4.584549e+00   \n",
       "\n",
       "                V25           V26           V27           V28         Amount  \\\n",
       "count  2.848070e+05  2.848070e+05  2.848070e+05  2.848070e+05  284807.000000   \n",
       "mean   1.426896e-15  1.701640e-15 -3.662252e-16 -1.217809e-16      88.349619   \n",
       "std    5.212781e-01  4.822270e-01  4.036325e-01  3.300833e-01     250.120109   \n",
       "min   -1.029540e+01 -2.604551e+00 -2.256568e+01 -1.543008e+01       0.000000   \n",
       "25%   -3.171451e-01 -3.269839e-01 -7.083953e-02 -5.295979e-02       5.600000   \n",
       "50%    1.659350e-02 -5.213911e-02  1.342146e-03  1.124383e-02      22.000000   \n",
       "75%    3.507156e-01  2.409522e-01  9.104512e-02  7.827995e-02      77.165000   \n",
       "max    7.519589e+00  3.517346e+00  3.161220e+01  3.384781e+01   25691.160000   \n",
       "\n",
       "               Class  \n",
       "count  284807.000000  \n",
       "mean        0.001727  \n",
       "std         0.041527  \n",
       "min         0.000000  \n",
       "25%         0.000000  \n",
       "50%         0.000000  \n",
       "75%         0.000000  \n",
       "max         1.000000  \n",
       "\n",
       "[8 rows x 31 columns]"
      ]
     },
     "execution_count": 18,
     "metadata": {},
     "output_type": "execute_result"
    }
   ],
   "source": [
    "data.describe()"
   ]
  },
  {
   "cell_type": "markdown",
   "id": "4e9a3509",
   "metadata": {},
   "source": [
    "We see that the mean/ range varies across the variables. For instance, \"Amount\" has a mean value of $88 while \"Time\" has a mean value of 94813 secs. Lets apply some transformation"
   ]
  },
  {
   "cell_type": "markdown",
   "id": "93fa0d27",
   "metadata": {},
   "source": [
    "## Split Data "
   ]
  },
  {
   "cell_type": "markdown",
   "id": "4c3063d3",
   "metadata": {},
   "source": [
    "Lets create the feature matrix \"X\" and target vector \"y\" which is \"Class\""
   ]
  },
  {
   "cell_type": "code",
   "execution_count": 19,
   "id": "47869af3",
   "metadata": {},
   "outputs": [
    {
     "name": "stdout",
     "output_type": "stream",
     "text": [
      "X.shape = (2848070, 30) y.shape =  (2848070,)\n"
     ]
    }
   ],
   "source": [
    "target = \"Class\"\n",
    "y = inflated_data[target]\n",
    "X = inflated_data.iloc[:, 0:30]\n",
    "\n",
    "print(\"X.shape =\", X.shape, \"y.shape = \", y.shape)"
   ]
  },
  {
   "cell_type": "markdown",
   "id": "9680c76f",
   "metadata": {},
   "source": [
    "We are dealing with large dataset. In order not to run out of memeory, lets release memory used to hold dataset we arent using"
   ]
  },
  {
   "cell_type": "code",
   "execution_count": 20,
   "id": "6eb320ef",
   "metadata": {},
   "outputs": [
    {
     "data": {
      "text/plain": [
       "8881"
      ]
     },
     "execution_count": 20,
     "metadata": {},
     "output_type": "execute_result"
    }
   ],
   "source": [
    "del q99_data\n",
    "del data\n",
    "gc.collect()"
   ]
  },
  {
   "cell_type": "code",
   "execution_count": 21,
   "id": "7d45a086",
   "metadata": {},
   "outputs": [
    {
     "name": "stdout",
     "output_type": "stream",
     "text": [
      "Training Set: 1993648 rows\n",
      "Test Set: 854422 rows\n"
     ]
    }
   ],
   "source": [
    "# Split data into train and tests\n",
    "X_train, X_test, y_train, y_test = train_test_split(X, y, train_size=0.7, random_state= 0)\n",
    "print ('Training Set: %d rows\\nTest Set: %d rows' % (X_train.shape[0], X_test.shape[0]))"
   ]
  },
  {
   "cell_type": "markdown",
   "id": "2f1c1b32",
   "metadata": {},
   "source": [
    "### Build Models"
   ]
  },
  {
   "cell_type": "markdown",
   "id": "dbb9e888",
   "metadata": {},
   "source": [
    "Let's try a couple of models to determine the optimal model. We start with Logistic Regression:"
   ]
  },
  {
   "cell_type": "markdown",
   "id": "e357c7d9",
   "metadata": {},
   "source": [
    "### Logistic Regression "
   ]
  },
  {
   "cell_type": "code",
   "execution_count": 22,
   "id": "a471f9ff",
   "metadata": {},
   "outputs": [],
   "source": [
    "numeric_features = [*range(0, 29)]\n",
    "reg = 0.01\n",
    "numeric_transformer = Pipeline(steps=[\n",
    "    ('scaler', StandardScaler())])\n",
    "\n",
    "preprocessor = ColumnTransformer(\n",
    "    transformers=[\n",
    "        (\"num\", numeric_transformer, numeric_features)\n",
    "    ])\n",
    "\n",
    "# Create Preprocessing and training pipeline\n",
    "logistic_model = Pipeline(steps= [\n",
    "    (\"preprocessor\", preprocessor),\n",
    "    (\"regressor\", LogisticRegression(C=1/reg, solver=\"lbfgs\", multi_class='auto', max_iter=10000))\n",
    "     ])\n"
   ]
  },
  {
   "cell_type": "code",
   "execution_count": 23,
   "id": "26c617ec",
   "metadata": {},
   "outputs": [
    {
     "data": {
      "text/plain": [
       "Pipeline(steps=[('preprocessor',\n",
       "                 ColumnTransformer(transformers=[('num',\n",
       "                                                  Pipeline(steps=[('scaler',\n",
       "                                                                   StandardScaler())]),\n",
       "                                                  [0, 1, 2, 3, 4, 5, 6, 7, 8, 9,\n",
       "                                                   10, 11, 12, 13, 14, 15, 16,\n",
       "                                                   17, 18, 19, 20, 21, 22, 23,\n",
       "                                                   24, 25, 26, 27, 28])])),\n",
       "                ('regressor', LogisticRegression(C=100.0, max_iter=10000))])"
      ]
     },
     "execution_count": 23,
     "metadata": {},
     "output_type": "execute_result"
    }
   ],
   "source": [
    "logistic_model.fit(X_train, y_train)"
   ]
  },
  {
   "cell_type": "markdown",
   "id": "99be1548",
   "metadata": {},
   "source": [
    "Model and predict the Test data"
   ]
  },
  {
   "cell_type": "code",
   "execution_count": 24,
   "id": "6bfab7ed",
   "metadata": {},
   "outputs": [
    {
     "name": "stdout",
     "output_type": "stream",
     "text": [
      "Predicted labels:  [0. 0. 0. ... 0. 0. 0.]\n",
      "Actual labels: 2793328    0.0\n",
      "72421      0.0\n",
      "1468709    0.0\n",
      "1868032    0.0\n",
      "1696861    0.0\n",
      "          ... \n",
      "2828606    0.0\n",
      "2701162    0.0\n",
      "600622     0.0\n",
      "1537837    0.0\n",
      "1110162    0.0\n",
      "Name: Class, Length: 854422, dtype: float64\n"
     ]
    }
   ],
   "source": [
    "X_test_predictions = logistic_model.predict(X_test)\n",
    "print('Predicted labels: ', X_test_predictions)\n",
    "print('Actual labels:' ,y_test)"
   ]
  },
  {
   "cell_type": "markdown",
   "id": "1b82d621",
   "metadata": {},
   "source": [
    "Model and predict the Training data"
   ]
  },
  {
   "cell_type": "code",
   "execution_count": 25,
   "id": "ae50c685",
   "metadata": {},
   "outputs": [
    {
     "name": "stdout",
     "output_type": "stream",
     "text": [
      "Predicted X_train_labels:  [0. 0. 0. ... 0. 0. 0.]\n",
      "Actual labels: 2793328    0.0\n",
      "72421      0.0\n",
      "1468709    0.0\n",
      "1868032    0.0\n",
      "1696861    0.0\n",
      "          ... \n",
      "2828606    0.0\n",
      "2701162    0.0\n",
      "600622     0.0\n",
      "1537837    0.0\n",
      "1110162    0.0\n",
      "Name: Class, Length: 854422, dtype: float64\n"
     ]
    }
   ],
   "source": [
    "X_train_predictions = logistic_model.predict(X_train)\n",
    "print('Predicted X_train_labels: ', X_train_predictions)\n",
    "print('Actual labels:' ,y_test)"
   ]
  },
  {
   "cell_type": "code",
   "execution_count": 26,
   "id": "bd12a2b1",
   "metadata": {},
   "outputs": [
    {
     "name": "stdout",
     "output_type": "stream",
     "text": [
      "Accuracy on Training Data:  0.9992180164201504\n",
      "Accuracy on Test Data:  0.9992263775979551\n"
     ]
    }
   ],
   "source": [
    "print('Accuracy on Training Data: ', accuracy_score(X_train_predictions, y_train))\n",
    "\n",
    "print('Accuracy on Test Data: ', accuracy_score(X_test_predictions, y_test))"
   ]
  },
  {
   "cell_type": "markdown",
   "id": "e9fd790b",
   "metadata": {},
   "source": [
    "### Create a Function to improve the model process "
   ]
  },
  {
   "cell_type": "code",
   "execution_count": 27,
   "id": "60734b4a",
   "metadata": {},
   "outputs": [],
   "source": [
    "def create_model_and_score(X, y):\n",
    "    X_train, X_test, y_train, y_test = train_test_split(X, y, train_size=0.7, random_state= 0)\n",
    "    numeric_features = [*range(0, 29)]\n",
    "    reg = 0.01\n",
    "    numeric_transformer = Pipeline(steps=[\n",
    "        ('scaler', StandardScaler())])\n",
    "\n",
    "    preprocessor = ColumnTransformer(\n",
    "        transformers=[\n",
    "            (\"num\", numeric_transformer, numeric_features)\n",
    "        ])\n",
    "\n",
    "    # Create Preprocessing and training pipeline\n",
    "    model = Pipeline(steps= [\n",
    "        (\"preprocessor\", preprocessor),\n",
    "        (\"regressor\", LogisticRegression(C=1/reg, solver=\"lbfgs\", multi_class='auto', max_iter=10000))\n",
    "         ])\n",
    "\n",
    "    # Fit the model\n",
    "    model.fit(X_train, y_train)\n",
    "    \n",
    "    # Model and predict the Test data\n",
    "    X_test_predictions = model.predict(X_test)\n",
    "    print('Predicted labels: ', X_test_predictions)\n",
    "    print('Actual labels:' ,y_test)\n",
    "    print(\"\\n\")\n",
    "    # Model and predict the Training data\n",
    "    X_train_predictions = model.predict(X_train)\n",
    "    print('Predicted X_train_labels: ', X_train_predictions)\n",
    "    print('Actual labels:' ,y_test)\n",
    "    print(\"\\n\")\n",
    "    # Results\n",
    "    print('Accuracy on Training Data: ', accuracy_score(X_train_predictions, y_train))\n",
    "\n",
    "    print('Accuracy on Test Data: ', accuracy_score(X_test_predictions, y_test))"
   ]
  },
  {
   "cell_type": "markdown",
   "id": "e1ce44dd",
   "metadata": {},
   "source": [
    "Use function to repeat the process of prediction"
   ]
  },
  {
   "cell_type": "code",
   "execution_count": 28,
   "id": "396cbd19",
   "metadata": {},
   "outputs": [
    {
     "name": "stdout",
     "output_type": "stream",
     "text": [
      "Predicted labels:  [0. 0. 0. ... 0. 0. 0.]\n",
      "Actual labels: 2793328    0.0\n",
      "72421      0.0\n",
      "1468709    0.0\n",
      "1868032    0.0\n",
      "1696861    0.0\n",
      "          ... \n",
      "2828606    0.0\n",
      "2701162    0.0\n",
      "600622     0.0\n",
      "1537837    0.0\n",
      "1110162    0.0\n",
      "Name: Class, Length: 854422, dtype: float64\n",
      "\n",
      "\n",
      "Predicted X_train_labels:  [0. 0. 0. ... 0. 0. 0.]\n",
      "Actual labels: 2793328    0.0\n",
      "72421      0.0\n",
      "1468709    0.0\n",
      "1868032    0.0\n",
      "1696861    0.0\n",
      "          ... \n",
      "2828606    0.0\n",
      "2701162    0.0\n",
      "600622     0.0\n",
      "1537837    0.0\n",
      "1110162    0.0\n",
      "Name: Class, Length: 854422, dtype: float64\n",
      "\n",
      "\n",
      "Accuracy on Training Data:  0.9992180164201504\n",
      "Accuracy on Test Data:  0.9992263775979551\n"
     ]
    }
   ],
   "source": [
    "create_model_and_score(X, y)"
   ]
  },
  {
   "cell_type": "code",
   "execution_count": 29,
   "id": "817bacb1",
   "metadata": {},
   "outputs": [
    {
     "name": "stdout",
     "output_type": "stream",
     "text": [
      "              precision    recall  f1-score   support\n",
      "\n",
      "         0.0       1.00      1.00      1.00    852976\n",
      "         1.0       0.88      0.63      0.73      1446\n",
      "\n",
      "    accuracy                           1.00    854422\n",
      "   macro avg       0.94      0.82      0.87    854422\n",
      "weighted avg       1.00      1.00      1.00    854422\n",
      "\n"
     ]
    }
   ],
   "source": [
    "print(classification_report(y_test, X_test_predictions))"
   ]
  },
  {
   "cell_type": "code",
   "execution_count": 30,
   "id": "5621b931",
   "metadata": {},
   "outputs": [
    {
     "name": "stdout",
     "output_type": "stream",
     "text": [
      "Overall Accuracy: 0.9992263775979551\n",
      "Overall Precision: 0.9382083659747298\n",
      "Overall Recall: 0.8156234471421422\n"
     ]
    }
   ],
   "source": [
    "print(\"Overall Accuracy:\",accuracy_score(y_test, X_test_predictions))\n",
    "print(\"Overall Precision:\",precision_score(y_test, X_test_predictions, average='macro'))\n",
    "print(\"Overall Recall:\",recall_score(y_test, X_test_predictions, average='macro'))"
   ]
  },
  {
   "cell_type": "code",
   "execution_count": 31,
   "id": "4f84db74",
   "metadata": {},
   "outputs": [
    {
     "name": "stdout",
     "output_type": "stream",
     "text": [
      "[[852848    128]\n",
      " [   533    913]]\n"
     ]
    }
   ],
   "source": [
    "# Print the confusion matrix\n",
    "logistic_mcm = confusion_matrix(y_test, X_test_predictions)\n",
    "print(logistic_mcm)"
   ]
  },
  {
   "cell_type": "code",
   "execution_count": 32,
   "id": "ec81cdd5",
   "metadata": {},
   "outputs": [
    {
     "data": {
      "image/png": "[encoded data removed]",
      "text/plain": [
       "<Figure size 640x480 with 2 Axes>"
      ]
     },
     "metadata": {},
     "output_type": "display_data"
    }
   ],
   "source": [
    "plt.imshow(logistic_mcm, interpolation=\"nearest\", cmap=plt.cm.Blues)\n",
    "plt.colorbar()\n",
    "tick_marks = np.arange(len(labels))\n",
    "plt.xticks(tick_marks, labels, rotation=45)\n",
    "plt.yticks(tick_marks, labels)\n",
    "plt.xlabel(\"Predicted Class\")\n",
    "plt.ylabel(\"Actual Class\")\n",
    "plt.show()"
   ]
  },
  {
   "cell_type": "code",
   "execution_count": 33,
   "id": "eeccf0e6",
   "metadata": {},
   "outputs": [
    {
     "data": {
      "image/png": "[encoded data removed]",
      "text/plain": [
       "<Figure size 640x480 with 1 Axes>"
      ]
     },
     "metadata": {},
     "output_type": "display_data"
    }
   ],
   "source": [
    "# Get class probability scores\n",
    "fraud_prob = logistic_model.predict_proba(X_test)\n",
    "\n",
    "# Get ROC metrics for each class\n",
    "fpr = {}\n",
    "tpr = {}\n",
    "thresh ={}\n",
    "for i in range(len(labels)):    \n",
    "    fpr[i], tpr[i], thresh[i] = roc_curve(y_test, fraud_prob[:,i], pos_label=i)\n",
    "    \n",
    "# Plot the ROC chart\n",
    "plt.plot(fpr[0], tpr[0], linestyle='--',color='orange', label= str(labels[0]) + ' vs Rest')\n",
    "plt.plot(fpr[1], tpr[1], linestyle='--',color='green', label= str(labels[1]) + ' vs Rest')\n",
    "# plt.plot(fpr[2], tpr[2], linestyle='--',color='blue', label= wine_classes[2] + ' vs Rest')\n",
    "plt.title('Multiclass ROC curve')\n",
    "plt.xlabel('False Positive Rate')\n",
    "plt.ylabel('True Positive rate')\n",
    "plt.legend(loc='best')\n",
    "plt.show()"
   ]
  },
  {
   "cell_type": "code",
   "execution_count": 34,
   "id": "c05b13e6",
   "metadata": {},
   "outputs": [
    {
     "name": "stdout",
     "output_type": "stream",
     "text": [
      "Average AUC: 0.9769793058830939\n"
     ]
    }
   ],
   "source": [
    "auc = roc_auc_score(y_test, fraud_prob[:, -1:], multi_class='ovr')\n",
    "print('Average AUC:', auc)"
   ]
  },
  {
   "cell_type": "markdown",
   "id": "6b440386",
   "metadata": {},
   "source": [
    "### Logistic Regression with sampled weights "
   ]
  },
  {
   "cell_type": "markdown",
   "id": "d66579c8",
   "metadata": {},
   "source": [
    "Note: As we can see, this data set is imbalance as we have over 90% of the non-fraudulent transactions. It can also be seen in the confusion matrix. Thus, we need to resample the data by modifying the weights (https://towardsdatascience.com/why-weight-the-importance-of-training-on-balanced-datasets-f1e54688e7df)"
   ]
  },
  {
   "cell_type": "code",
   "execution_count": 35,
   "id": "a42a81e3",
   "metadata": {},
   "outputs": [
    {
     "data": {
      "text/plain": [
       "array([0.50087279, 0.50087279, 0.50087279, ..., 0.50087279, 0.50087279,\n",
       "       0.50087279])"
      ]
     },
     "execution_count": 35,
     "metadata": {},
     "output_type": "execute_result"
    }
   ],
   "source": [
    "# resample the class data by calculating the balanced class weights\n",
    "w_train = compute_sample_weight('balanced', y_train)\n",
    "w_train"
   ]
  },
  {
   "cell_type": "code",
   "execution_count": 36,
   "id": "713e0f52",
   "metadata": {},
   "outputs": [],
   "source": [
    "#Build Transformers\n",
    "numeric_transformer = Pipeline(steps=[\n",
    "    ('scaler', StandardScaler())])\n",
    "\n",
    "preprocessor = ColumnTransformer(\n",
    "    transformers=[\n",
    "        (\"num\", numeric_transformer, numeric_features)\n",
    "    ])\n",
    "\n",
    "# Create Preprocessing and training pipeline\n",
    "sampled_L_model = Pipeline(steps= [\n",
    "    (\"preprocessor\", preprocessor),\n",
    "    (\"regressor\", LogisticRegression(C=1/reg, solver=\"lbfgs\", multi_class='auto', max_iter=10000))\n",
    "     ])"
   ]
  },
  {
   "cell_type": "code",
   "execution_count": 37,
   "id": "ee506aed",
   "metadata": {},
   "outputs": [
    {
     "data": {
      "text/plain": [
       "Pipeline(steps=[('preprocessor',\n",
       "                 ColumnTransformer(transformers=[('num',\n",
       "                                                  Pipeline(steps=[('scaler',\n",
       "                                                                   StandardScaler())]),\n",
       "                                                  [0, 1, 2, 3, 4, 5, 6, 7, 8, 9,\n",
       "                                                   10, 11, 12, 13, 14, 15, 16,\n",
       "                                                   17, 18, 19, 20, 21, 22, 23,\n",
       "                                                   24, 25, 26, 27, 28])])),\n",
       "                ('regressor', LogisticRegression(C=100.0, max_iter=10000))])"
      ]
     },
     "execution_count": 37,
     "metadata": {},
     "output_type": "execute_result"
    }
   ],
   "source": [
    "# Fit the model\n",
    "sampled_L_model.fit(X_train, y_train, regressor__sample_weight = w_train) # or **{'regressor__sample_weight': w_train}"
   ]
  },
  {
   "cell_type": "code",
   "execution_count": 38,
   "id": "6ccefa90",
   "metadata": {},
   "outputs": [
    {
     "name": "stdout",
     "output_type": "stream",
     "text": [
      "Predicted labels:  [0. 0. 0. ... 0. 0. 0.]\n",
      "Actual labels: 2793328    0.0\n",
      "72421      0.0\n",
      "1468709    0.0\n",
      "1868032    0.0\n",
      "1696861    0.0\n",
      "          ... \n",
      "2828606    0.0\n",
      "2701162    0.0\n",
      "600622     0.0\n",
      "1537837    0.0\n",
      "1110162    0.0\n",
      "Name: Class, Length: 854422, dtype: float64\n"
     ]
    }
   ],
   "source": [
    "# Model and predict the Test data\n",
    "X_test_predictions_sampled = sampled_L_model.predict(X_test)\n",
    "print('Predicted labels: ', X_test_predictions_sampled)\n",
    "print('Actual labels:' ,y_test)"
   ]
  },
  {
   "cell_type": "code",
   "execution_count": 39,
   "id": "45939c73",
   "metadata": {},
   "outputs": [
    {
     "name": "stdout",
     "output_type": "stream",
     "text": [
      "Predicted X_train_labels:  [0. 0. 0. ... 0. 0. 0.]\n",
      "Actual labels: 2793328    0.0\n",
      "72421      0.0\n",
      "1468709    0.0\n",
      "1868032    0.0\n",
      "1696861    0.0\n",
      "          ... \n",
      "2828606    0.0\n",
      "2701162    0.0\n",
      "600622     0.0\n",
      "1537837    0.0\n",
      "1110162    0.0\n",
      "Name: Class, Length: 854422, dtype: float64\n"
     ]
    }
   ],
   "source": [
    "# Model and predict the Training data\n",
    "X_train_predictions_sampled = sampled_L_model.predict(X_train)\n",
    "print('Predicted X_train_labels: ', X_train_predictions_sampled)\n",
    "print('Actual labels:' ,y_test)"
   ]
  },
  {
   "cell_type": "code",
   "execution_count": 40,
   "id": "96188851",
   "metadata": {},
   "outputs": [
    {
     "name": "stdout",
     "output_type": "stream",
     "text": [
      "Accuracy on Training Data:  0.9781480983603926\n",
      "Accuracy on Test Data:  0.9781548227924842\n"
     ]
    }
   ],
   "source": [
    "print('Accuracy on Training Data: ', accuracy_score(X_train_predictions_sampled, y_train))\n",
    "\n",
    "print('Accuracy on Test Data: ', accuracy_score(X_test_predictions_sampled, y_test))"
   ]
  },
  {
   "cell_type": "markdown",
   "id": "07db5df9",
   "metadata": {},
   "source": [
    "This balanced class data will be used to build a model function \"create_model_and_score_sampled\"."
   ]
  },
  {
   "cell_type": "code",
   "execution_count": 41,
   "id": "6af01687",
   "metadata": {},
   "outputs": [],
   "source": [
    "# def create_model_and_score_sampled(X, y):\n",
    "#     X_train, X_test, y_train, y_test = train_test_split(X, y, train_size=0.7, random_state= 0)\n",
    "#     numeric_features = [*range(0, 29)]\n",
    "#     reg = 0.01\n",
    "    \n",
    "#     # resample the class data by calculating the balanced class weights\n",
    "#     w_train = compute_sample_weight('balanced', y_train)\n",
    "    \n",
    "#     #Build Transformers\n",
    "#     numeric_transformer = Pipeline(steps=[\n",
    "#         ('scaler', StandardScaler())])\n",
    "\n",
    "#     preprocessor = ColumnTransformer(\n",
    "#         transformers=[\n",
    "#             (\"num\", numeric_transformer, numeric_features)\n",
    "#         ])\n",
    "\n",
    "#     # Create Preprocessing and training pipeline\n",
    "#     model = Pipeline(steps= [\n",
    "#         (\"preprocessor\", preprocessor),\n",
    "#         (\"regressor\", LogisticRegression(C=1/reg, solver=\"lbfgs\", multi_class='auto', max_iter=10000))\n",
    "#          ])\n",
    "\n",
    "#     # Fit the model\n",
    "#     model.fit(X_train, y_train, regressor__sample_weight = w_train) # or **{'regressor__sample_weight': w_train}\n",
    "    \n",
    "#     # Model and predict the Test data\n",
    "#     X_test_predictions_sampled = model_sampled.predict(X_test)\n",
    "#     print('Predicted labels: ', X_test_predictions_sampled)\n",
    "#     print('Actual labels:' ,y_test)\n",
    "#     print(\"\\n\")\n",
    "    \n",
    "#     # Model and predict the Training data\n",
    "#     X_train_predictions_sampled = model_sampled.predict(X_train)\n",
    "#     print('Predicted X_train_labels: ', X_train_predictions_sampled)\n",
    "#     print('Actual labels:' ,y_test)\n",
    "#     print(\"\\n\")\n",
    "#     # Results\n",
    "#     print('Accuracy on Training Data: ', accuracy_score(X_train_predictions_sampled, y_train))\n",
    "\n",
    "#     print('Accuracy on Test Data: ', accuracy_score(X_test_predictions_sampled, y_test))"
   ]
  },
  {
   "cell_type": "code",
   "execution_count": 42,
   "id": "d092783c",
   "metadata": {},
   "outputs": [],
   "source": [
    "# create_model_and_score_sampled(X, y)"
   ]
  },
  {
   "cell_type": "code",
   "execution_count": 43,
   "id": "c5e43632",
   "metadata": {},
   "outputs": [
    {
     "name": "stdout",
     "output_type": "stream",
     "text": [
      "              precision    recall  f1-score   support\n",
      "\n",
      "         0.0       1.00      0.98      0.99    852976\n",
      "         1.0       0.07      0.91      0.12      1446\n",
      "\n",
      "    accuracy                           0.98    854422\n",
      "   macro avg       0.53      0.94      0.56    854422\n",
      "weighted avg       1.00      0.98      0.99    854422\n",
      "\n"
     ]
    }
   ],
   "source": [
    "print(classification_report(y_test, X_test_predictions_sampled))"
   ]
  },
  {
   "cell_type": "code",
   "execution_count": 44,
   "id": "aff44105",
   "metadata": {},
   "outputs": [
    {
     "name": "stdout",
     "output_type": "stream",
     "text": [
      "Overall Accuracy: 0.9781548227924842\n",
      "Overall Precision: 0.533113945609254\n",
      "Overall Recall: 0.9448738987316603\n"
     ]
    }
   ],
   "source": [
    "print(\"Overall Accuracy:\",accuracy_score(y_test, X_test_predictions_sampled))\n",
    "print(\"Overall Precision:\",precision_score(y_test, X_test_predictions_sampled, average='macro'))\n",
    "print(\"Overall Recall:\",recall_score(y_test, X_test_predictions_sampled, average='macro'))"
   ]
  },
  {
   "cell_type": "code",
   "execution_count": 45,
   "id": "09580d0f",
   "metadata": {},
   "outputs": [
    {
     "name": "stdout",
     "output_type": "stream",
     "text": [
      "[[834439  18537]\n",
      " [   128   1318]]\n"
     ]
    }
   ],
   "source": [
    "# Print the confusion matrix\n",
    "mcm_L_sampled = confusion_matrix(y_test, X_test_predictions_sampled)\n",
    "print(mcm_L_sampled)"
   ]
  },
  {
   "cell_type": "code",
   "execution_count": 46,
   "id": "7a53c406",
   "metadata": {},
   "outputs": [
    {
     "data": {
      "image/png": "[encoded data removed]",
      "text/plain": [
       "<Figure size 640x480 with 2 Axes>"
      ]
     },
     "metadata": {},
     "output_type": "display_data"
    }
   ],
   "source": [
    "plt.imshow(mcm_L_sampled, interpolation=\"nearest\", cmap=plt.cm.Blues)\n",
    "plt.colorbar()\n",
    "tick_marks = np.arange(len(labels))\n",
    "plt.xticks(tick_marks, labels, rotation=45)\n",
    "plt.yticks(tick_marks, labels)\n",
    "plt.xlabel(\"Predicted Class\")\n",
    "plt.ylabel(\"Actual Class\")\n",
    "plt.show()"
   ]
  },
  {
   "cell_type": "code",
   "execution_count": 47,
   "id": "df516c3b",
   "metadata": {},
   "outputs": [
    {
     "data": {
      "image/png": "[encoded data removed]",
      "text/plain": [
       "<Figure size 640x480 with 1 Axes>"
      ]
     },
     "metadata": {},
     "output_type": "display_data"
    }
   ],
   "source": [
    "# Get class probability scores\n",
    "fraud_prob_L2 = sampled_L_model.predict_proba(X_test)\n",
    "\n",
    "# Get ROC metrics for each class\n",
    "fpr = {}\n",
    "tpr = {}\n",
    "thresh ={}\n",
    "for i in range(len(labels)):    \n",
    "    fpr[i], tpr[i], thresh[i] = roc_curve(y_test, fraud_prob_L2[:,i], pos_label=i)\n",
    "    \n",
    "# Plot the ROC chart\n",
    "plt.plot(fpr[0], tpr[0], linestyle='--',color='orange', label= str(labels[0]) + ' vs Rest')\n",
    "plt.plot(fpr[1], tpr[1], linestyle='--',color='green', label= str(labels[1]) + ' vs Rest')\n",
    "# plt.plot(fpr[2], tpr[2], linestyle='--',color='blue', label= wine_classes[2] + ' vs Rest')\n",
    "plt.title('Multiclass ROC curve')\n",
    "plt.xlabel('False Positive Rate')\n",
    "plt.ylabel('True Positive rate')\n",
    "plt.legend(loc='best')\n",
    "plt.show()"
   ]
  },
  {
   "cell_type": "code",
   "execution_count": 48,
   "id": "fb071b0f",
   "metadata": {},
   "outputs": [
    {
     "name": "stdout",
     "output_type": "stream",
     "text": [
      "Average AUC: 0.9863684315142287\n"
     ]
    }
   ],
   "source": [
    "auc = roc_auc_score(y_test, fraud_prob_L2[:, -1:], multi_class='ovr')\n",
    "print('Average AUC:', auc)"
   ]
  },
  {
   "cell_type": "markdown",
   "id": "49518a39",
   "metadata": {},
   "source": [
    "### Decision Tree "
   ]
  },
  {
   "cell_type": "code",
   "execution_count": 49,
   "id": "cd34199e",
   "metadata": {},
   "outputs": [],
   "source": [
    "#Build Transformers\n",
    "numeric_transformer = Pipeline(steps=[\n",
    "    ('scaler', StandardScaler())])\n",
    "\n",
    "preprocessor = ColumnTransformer(\n",
    "    transformers=[\n",
    "        (\"num\", numeric_transformer, numeric_features)\n",
    "    ])\n",
    "\n",
    "# Create Preprocessing and training pipeline\n",
    "dt_model = Pipeline(steps= [\n",
    "    (\"preprocessor\", preprocessor),\n",
    "    (\"decisiontree\", DecisionTreeClassifier(max_depth = 4, random_state = 0))\n",
    "     ])"
   ]
  },
  {
   "cell_type": "code",
   "execution_count": 50,
   "id": "d20d3fb4",
   "metadata": {},
   "outputs": [
    {
     "data": {
      "text/plain": [
       "Pipeline(steps=[('preprocessor',\n",
       "                 ColumnTransformer(transformers=[('num',\n",
       "                                                  Pipeline(steps=[('scaler',\n",
       "                                                                   StandardScaler())]),\n",
       "                                                  [0, 1, 2, 3, 4, 5, 6, 7, 8, 9,\n",
       "                                                   10, 11, 12, 13, 14, 15, 16,\n",
       "                                                   17, 18, 19, 20, 21, 22, 23,\n",
       "                                                   24, 25, 26, 27, 28])])),\n",
       "                ('decisiontree',\n",
       "                 DecisionTreeClassifier(max_depth=4, random_state=0))])"
      ]
     },
     "execution_count": 50,
     "metadata": {},
     "output_type": "execute_result"
    }
   ],
   "source": [
    "# Fit the model\n",
    "dt_model.fit(X_train, y_train, decisiontree__sample_weight = w_train) # or **{'regressor__sample_weight': w_train}"
   ]
  },
  {
   "cell_type": "code",
   "execution_count": 51,
   "id": "46acaf4b",
   "metadata": {},
   "outputs": [
    {
     "name": "stdout",
     "output_type": "stream",
     "text": [
      "Predicted labels:  [0. 0. 0. ... 0. 0. 0.]\n",
      "Actual labels: 2793328    0.0\n",
      "72421      0.0\n",
      "1468709    0.0\n",
      "1868032    0.0\n",
      "1696861    0.0\n",
      "          ... \n",
      "2828606    0.0\n",
      "2701162    0.0\n",
      "600622     0.0\n",
      "1537837    0.0\n",
      "1110162    0.0\n",
      "Name: Class, Length: 854422, dtype: float64\n"
     ]
    }
   ],
   "source": [
    "# Model and predict the Test data\n",
    "X_test_predictions_dt = dt_model.predict(X_test)\n",
    "print('Predicted labels: ', X_test_predictions_dt)\n",
    "print('Actual labels:' ,y_test)"
   ]
  },
  {
   "cell_type": "code",
   "execution_count": 52,
   "id": "6d6a2ebf",
   "metadata": {},
   "outputs": [
    {
     "name": "stdout",
     "output_type": "stream",
     "text": [
      "Predicted X_train_labels:  [0. 0. 0. ... 0. 0. 0.]\n",
      "Actual labels: 2793328    0.0\n",
      "72421      0.0\n",
      "1468709    0.0\n",
      "1868032    0.0\n",
      "1696861    0.0\n",
      "          ... \n",
      "2828606    0.0\n",
      "2701162    0.0\n",
      "600622     0.0\n",
      "1537837    0.0\n",
      "1110162    0.0\n",
      "Name: Class, Length: 854422, dtype: float64\n"
     ]
    }
   ],
   "source": [
    "# Model and predict the Training data\n",
    "X_train_predictions_dt = dt_model.predict(X_train)\n",
    "print('Predicted X_train_labels: ', X_train_predictions_dt)\n",
    "print('Actual labels:' ,y_test)"
   ]
  },
  {
   "cell_type": "code",
   "execution_count": 53,
   "id": "5b6d80a6",
   "metadata": {},
   "outputs": [
    {
     "name": "stdout",
     "output_type": "stream",
     "text": [
      "Accuracy on Training Data:  0.9660968235114724\n",
      "Accuracy on Test Data:  0.9665048418697084\n"
     ]
    }
   ],
   "source": [
    "print('Accuracy on Training Data: ', accuracy_score(X_train_predictions_dt, y_train))\n",
    "\n",
    "print('Accuracy on Test Data: ', accuracy_score(X_test_predictions_dt, y_test))"
   ]
  },
  {
   "cell_type": "code",
   "execution_count": 54,
   "id": "c7a61242",
   "metadata": {},
   "outputs": [
    {
     "name": "stdout",
     "output_type": "stream",
     "text": [
      "              precision    recall  f1-score   support\n",
      "\n",
      "         0.0       1.00      0.97      0.98    852976\n",
      "         1.0       0.05      0.93      0.09      1446\n",
      "\n",
      "    accuracy                           0.97    854422\n",
      "   macro avg       0.52      0.95      0.53    854422\n",
      "weighted avg       1.00      0.97      0.98    854422\n",
      "\n"
     ]
    }
   ],
   "source": [
    "print(classification_report(y_test, X_test_predictions_dt))"
   ]
  },
  {
   "cell_type": "code",
   "execution_count": 55,
   "id": "18e978c1",
   "metadata": {},
   "outputs": [
    {
     "name": "stdout",
     "output_type": "stream",
     "text": [
      "Overall Accuracy: 0.9665048418697084\n",
      "Overall Precision: 0.5224899391593937\n",
      "Overall Recall: 0.9490496967181771\n"
     ]
    }
   ],
   "source": [
    "print(\"Overall Accuracy:\",accuracy_score(y_test, X_test_predictions_dt))\n",
    "print(\"Overall Precision:\",precision_score(y_test, X_test_predictions_dt, average='macro'))\n",
    "print(\"Overall Recall:\",recall_score(y_test, X_test_predictions_dt, average='macro'))"
   ]
  },
  {
   "cell_type": "code",
   "execution_count": 56,
   "id": "029b5324",
   "metadata": {},
   "outputs": [
    {
     "name": "stdout",
     "output_type": "stream",
     "text": [
      "[[824456  28520]\n",
      " [    99   1347]]\n"
     ]
    }
   ],
   "source": [
    "# Print the confusion matrix\n",
    "mcm_dt = confusion_matrix(y_test, X_test_predictions_dt)\n",
    "print(mcm_dt)"
   ]
  },
  {
   "cell_type": "code",
   "execution_count": 57,
   "id": "82f7b219",
   "metadata": {},
   "outputs": [
    {
     "data": {
      "image/png": "[encoded data removed]",
      "text/plain": [
       "<Figure size 640x480 with 2 Axes>"
      ]
     },
     "metadata": {},
     "output_type": "display_data"
    }
   ],
   "source": [
    "plt.imshow(mcm_dt, interpolation=\"nearest\", cmap=plt.cm.Blues)\n",
    "plt.colorbar()\n",
    "tick_marks = np.arange(len(labels))\n",
    "plt.xticks(tick_marks, labels, rotation=45)\n",
    "plt.yticks(tick_marks, labels)\n",
    "plt.xlabel(\"Predicted Class\")\n",
    "plt.ylabel(\"Actual Class\")\n",
    "plt.show()"
   ]
  },
  {
   "cell_type": "code",
   "execution_count": 58,
   "id": "fb3f8dbd",
   "metadata": {},
   "outputs": [
    {
     "data": {
      "image/png": "[encoded data removed]",
      "text/plain": [
       "<Figure size 640x480 with 1 Axes>"
      ]
     },
     "metadata": {},
     "output_type": "display_data"
    }
   ],
   "source": [
    "# Get class probability scores\n",
    "fraud_prob_dt = dt_model.predict_proba(X_test)\n",
    "\n",
    "# Get ROC metrics for each class\n",
    "fpr = {}\n",
    "tpr = {}\n",
    "thresh ={}\n",
    "for i in range(len(labels)):    \n",
    "    fpr[i], tpr[i], thresh[i] = roc_curve(y_test, fraud_prob_dt[:,i], pos_label=i)\n",
    "    \n",
    "# Plot the ROC chart\n",
    "plt.plot(fpr[0], tpr[0], linestyle='--',color='orange', label= str(labels[0]) + ' vs Rest')\n",
    "plt.plot(fpr[1], tpr[1], linestyle='--',color='green', label= str(labels[1]) + ' vs Rest')\n",
    "# plt.plot(fpr[2], tpr[2], linestyle='--',color='blue', label= wine_classes[2] + ' vs Rest')\n",
    "plt.title('Multiclass ROC curve')\n",
    "plt.xlabel('False Positive Rate')\n",
    "plt.ylabel('True Positive rate')\n",
    "plt.legend(loc='best')\n",
    "plt.show()"
   ]
  },
  {
   "cell_type": "code",
   "execution_count": 59,
   "id": "7e44763a",
   "metadata": {},
   "outputs": [
    {
     "name": "stdout",
     "output_type": "stream",
     "text": [
      "Average AUC: 0.9724464409895658\n"
     ]
    }
   ],
   "source": [
    "auc = roc_auc_score(y_test, fraud_prob_dt[:, -1:], multi_class='ovr')\n",
    "print('Average AUC:', auc)"
   ]
  },
  {
   "cell_type": "markdown",
   "id": "a519eea7",
   "metadata": {},
   "source": [
    "### Support Vector Machine"
   ]
  },
  {
   "cell_type": "markdown",
   "id": "c5460b88",
   "metadata": {},
   "source": [
    "The Support Vector Classifier does support initiating the imbalance of the dataset"
   ]
  },
  {
   "cell_type": "code",
   "execution_count": 63,
   "id": "08411283",
   "metadata": {},
   "outputs": [],
   "source": [
    "#Build Transformers\n",
    "numeric_transformer = Pipeline(steps=[\n",
    "    ('scaler', StandardScaler())])\n",
    "\n",
    "preprocessor = ColumnTransformer(\n",
    "    transformers=[\n",
    "        (\"num\", numeric_transformer, numeric_features)\n",
    "    ])\n",
    "\n",
    "# Create Preprocessing and training pipeline\n",
    "model_svc = Pipeline(steps= [\n",
    "    (\"preprocessor\", preprocessor),\n",
    "    (\"svm\", LinearSVC(class_weight='balanced', random_state=31, loss=\"hinge\", fit_intercept=False))\n",
    "     ])"
   ]
  },
  {
   "cell_type": "code",
   "execution_count": null,
   "id": "1bc29a9e",
   "metadata": {},
   "outputs": [],
   "source": []
  }
 ],
 "metadata": {
  "kernelspec": {
   "display_name": "Python 3 (ipykernel)",
   "language": "python",
   "name": "python3"
  },
  "language_info": {
   "codemirror_mode": {
    "name": "ipython",
    "version": 3
   },
   "file_extension": ".py",
   "mimetype": "text/x-python",
   "name": "python",
   "nbconvert_exporter": "python",
   "pygments_lexer": "ipython3",
   "version": "3.9.13"
  }
 },
 "nbformat": 4,
 "nbformat_minor": 5
}
